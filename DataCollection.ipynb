{
 "cells": [
  {
   "cell_type": "markdown",
   "id": "executed-sixth",
   "metadata": {},
   "source": [
    "## DataCollection"
   ]
  },
  {
   "cell_type": "code",
   "execution_count": 1,
   "id": "checked-edinburgh",
   "metadata": {},
   "outputs": [],
   "source": [
    "# IPython Libraries for display and widgets\n",
    "import traitlets\n",
    "import ipywidgets.widgets as widgets\n",
    "from IPython.display import display\n",
    "\n",
    "# Camera and Motor Interface for JetBot\n",
    "from jetbot import Robot, Camera, bgr8_to_jpeg\n",
    "\n",
    "# Basic Python packages for image annotation\n",
    "from uuid import uuid1\n",
    "import os\n",
    "import json\n",
    "import glob\n",
    "import datetime\n",
    "import numpy as np\n",
    "import cv2\n",
    "import time"
   ]
  },
  {
   "cell_type": "markdown",
   "id": "finite-builder",
   "metadata": {},
   "source": [
    "## Make repository for Dataset"
   ]
  },
  {
   "cell_type": "code",
   "execution_count": 2,
   "id": "incorrect-deviation",
   "metadata": {},
   "outputs": [
    {
     "name": "stdout",
     "output_type": "stream",
     "text": [
      "Directories not created because they already exist\n"
     ]
    }
   ],
   "source": [
    "import os\n",
    "\n",
    "DATASET_DIR = 'dataset/no_tag' \n",
    "try:\n",
    "    os.makedirs(DATASET_DIR)\n",
    "except FileExistsError:\n",
    "    print('Directories not created because they already exist')\n"
   ]
  },
  {
   "cell_type": "markdown",
   "id": "pacific-parking",
   "metadata": {},
   "source": [
    "## Controller set up"
   ]
  },
  {
   "cell_type": "code",
   "execution_count": 3,
   "id": "hungry-guarantee",
   "metadata": {},
   "outputs": [
    {
     "data": {
      "application/vnd.jupyter.widget-view+json": {
       "model_id": "24ac7342616b4897adaac1bdc6df5fd9",
       "version_major": 2,
       "version_minor": 0
      },
      "text/plain": [
       "Controller()"
      ]
     },
     "metadata": {},
     "output_type": "display_data"
    }
   ],
   "source": [
    "controller = widgets.Controller(index=0)\n",
    "\n",
    "display(controller)"
   ]
  },
  {
   "cell_type": "markdown",
   "id": "cc84e51e-06ff-41ff-8e99-497be49d1da9",
   "metadata": {},
   "source": [
    "## Car set up"
   ]
  },
  {
   "cell_type": "code",
   "execution_count": null,
   "id": "9de9caac-dcbe-4f26-868c-aa631a9f8c05",
   "metadata": {},
   "outputs": [],
   "source": [
    "from jetbot import Robot\n",
    "import traitlets\n",
    "\n",
    "robot = Robot()\n"
   ]
  },
  {
   "cell_type": "code",
   "execution_count": null,
   "id": "f6e7ddb9-c377-4d1f-a955-e54e67e72394",
   "metadata": {},
   "outputs": [],
   "source": [
    "#move forward and back\n",
    "move_link = traitlets.dlink((controller.axes[1], 'value'), (robot.left_motor, 'value'),(robot.right_motor, 'value'), transform=lambda x: -x)\n",
    "import traitlets\n",
    "\n",
    "# 左に曲がるためのリンク（左モータの速度を高くし、右モータを低くする）\n",
    "left_turn_link = traitlets.dlink((controller.axes[0], 'value'), (robot.left_motor, 'value'), transform=lambda x: x if x > 0 else 0)\n",
    "right_turn_link = traitlets.dlink((controller.axes[0], 'value'), (robot.right_motor, 'value'), transform=lambda x: -x if x < 0 else 0)\n",
    "\n",
    "# これにより、左スティックの左右の動きが左右のモータの速度に直接影響を与えるようになります。\n",
    "\n",
    "    \n"
   ]
  },
  {
   "cell_type": "markdown",
   "id": "72b345c3-e730-42c5-b24f-350e5ea01b4f",
   "metadata": {},
   "source": [
    "## Camera set up"
   ]
  },
  {
   "cell_type": "code",
   "execution_count": 4,
   "id": "suspected-rachel",
   "metadata": {},
   "outputs": [],
   "source": [
    "camera = Camera()"
   ]
  },
  {
   "cell_type": "markdown",
   "id": "hungry-token",
   "metadata": {},
   "source": [
    "## GUI set up"
   ]
  },
  {
   "cell_type": "code",
   "execution_count": 5,
   "id": "technical-center",
   "metadata": {},
   "outputs": [],
   "source": [
    "widget_width = camera.width\n",
    "widget_height = camera.height\n",
    "\n",
    "image_widget = widgets.Image(format='jpeg', width=widget_width, height=widget_height)\n",
    "target_widget = widgets.Image(format='jpeg', width=widget_width, height=widget_height)\n",
    "\n",
    "\n",
    "def display_xy(camera_image):\n",
    "    image = np.copy(camera_image)\n",
    "    jpeg_image = bgr8_to_jpeg(image)\n",
    "    \n",
    "    return jpeg_image\n",
    "\n",
    "time.sleep(1)\n",
    "traitlets.dlink((camera, 'value'), (image_widget, 'value'), transform=bgr8_to_jpeg)\n",
    "traitlets.dlink((camera, 'value'), (target_widget, 'value'), transform=display_xy)\n",
    "\n",
    "def save_snapshot(change):\n",
    "    if change['new']:\n",
    "        uuid = xy_uuid(x_slider.value, y_slider.value,r_slider.value)\n",
    "        image_path = os.path.join(DATASET_DIR, uuid + '.jpg')\n",
    "        with open(image_path, 'wb') as f:\n",
    "            f.write(image_widget.value)\n",
    "        free_count.value = len(glob.glob(os.path.join(DATASET_DIR, '*.jpg')))\n",
    "\n",
    "controller.buttons[5].observe(save_snapshot, names='value')\n",
    "\n",
    "\n",
    "\n",
    "button_layout = widgets.Layout(width='128px', height='64px')\n",
    "\n",
    "free_button = widgets.Button(description='add image', button_style='success', layout=button_layout)\n",
    "free_count = widgets.IntText(layout=button_layout, value=len(os.listdir('dataset/sponge')))\n",
    "\n",
    "# free_button.on_click(lambda x: save_snapshot)\n",
    "free_button.on_click(lambda x: save_snapshot(x))"
   ]
  },
  {
   "cell_type": "code",
   "execution_count": 6,
   "id": "appointed-liquid",
   "metadata": {},
   "outputs": [],
   "source": [
    "img_box = widgets.HBox([image_widget, target_widget])\n",
    "button_box = widgets.HBox([free_count, free_button])"
   ]
  },
  {
   "cell_type": "code",
   "execution_count": 7,
   "id": "turned-compound",
   "metadata": {},
   "outputs": [
    {
     "data": {
      "text/plain": [
       "DirectionalLink(source=(Axis(value=-1.5259021896696368e-05), 'value'), target=(FloatSlider(value=0.0, descript…"
      ]
     },
     "metadata": {},
     "output_type": "display_data"
    }
   ],
   "source": []
  },
  {
   "cell_type": "markdown",
   "id": "valid-weapon",
   "metadata": {},
   "source": [
    "## Lets collect data"
   ]
  },
  {
   "cell_type": "code",
   "execution_count": 8,
   "id": "preceding-remedy",
   "metadata": {},
   "outputs": [
    {
     "data": {
      "application/vnd.jupyter.widget-view+json": {
       "model_id": "3662b611ae2748669e1289869ed39764",
       "version_major": 2,
       "version_minor": 0
      },
      "text/plain": [
       "HBox(children=(HBox(children=(Image(value=b'\\xff\\xd8\\xff\\xe0\\x00\\x10JFIF\\x00\\x01\\x01\\x00\\x00\\x01\\x00\\x01\\x00\\x…"
      ]
     },
     "metadata": {},
     "output_type": "display_data"
    },
    {
     "data": {
      "application/vnd.jupyter.widget-view+json": {
       "model_id": "be10005aab854cc38124a4f0439ff00a",
       "version_major": 2,
       "version_minor": 0
      },
      "text/plain": [
       "FloatSlider(value=1.5259021896696368e-05, description='x', max=1.5, min=-1.5, step=0.001)"
      ]
     },
     "metadata": {},
     "output_type": "display_data"
    },
    {
     "data": {
      "application/vnd.jupyter.widget-view+json": {
       "model_id": "ea1b6782e280431caf52c97110e2343f",
       "version_major": 2,
       "version_minor": 0
      },
      "text/plain": [
       "FloatSlider(value=-1.5259021896696368e-05, description='y', max=1.6, min=-1.6, step=0.001)"
      ]
     },
     "metadata": {},
     "output_type": "display_data"
    },
    {
     "data": {
      "application/vnd.jupyter.widget-view+json": {
       "model_id": "127b3361671946468554563c4ed2c851",
       "version_major": 2,
       "version_minor": 0
      },
      "text/plain": [
       "FloatSlider(value=-1.5259021896696368e-05, description='r', max=2.0, min=-2.0, step=0.001)"
      ]
     },
     "metadata": {},
     "output_type": "display_data"
    }
   ],
   "source": [
    "display(widgets.HBox([img_box,button_box]))"
   ]
  },
  {
   "cell_type": "code",
   "execution_count": null,
   "id": "virtual-council",
   "metadata": {},
   "outputs": [],
   "source": [
    "camera.stop()"
   ]
  },
  {
   "cell_type": "code",
   "execution_count": null,
   "id": "rental-pencil",
   "metadata": {},
   "outputs": [],
   "source": []
  }
 ],
 "metadata": {
  "kernelspec": {
   "display_name": "Python 3",
   "language": "python",
   "name": "python3"
  },
  "language_info": {
   "codemirror_mode": {
    "name": "ipython",
    "version": 3
   },
   "file_extension": ".py",
   "mimetype": "text/x-python",
   "name": "python",
   "nbconvert_exporter": "python",
   "pygments_lexer": "ipython3",
   "version": "3.8.5"
  }
 },
 "nbformat": 4,
 "nbformat_minor": 5
}
