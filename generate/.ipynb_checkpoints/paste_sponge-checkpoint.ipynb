{
 "cells": [
  {
   "cell_type": "code",
   "execution_count": 7,
   "id": "d7b5548d-adbd-47cd-93d3-bc7ae4a6719f",
   "metadata": {},
   "outputs": [],
   "source": [
    "from PIL import Image\n",
    "import uuid\n",
    "import os\n",
    "import random\n",
    "\n",
    "def paste_transparent_image_centered(background_image_path, transparent_image_path, center_position,rate, output_path):\n",
    "    # 背景画像を読み込む\n",
    "    background = Image.open(background_image_path)\n",
    "\n",
    "    # 透過画像を読み込む\n",
    "    transparent = Image.open(transparent_image_path)\n",
    "    \n",
    "    # 透過画像をリサイズ\n",
    "    original_size = transparent.size\n",
    "    new_size = (int(original_size[0] * rate), int(original_size[1] * rate))\n",
    "    transparent = transparent.resize(new_size, Image.LANCZOS)\n",
    "\n",
    "\n",
    "    # 透過画像のサイズを取得\n",
    "    tr_width, tr_height = transparent.size\n",
    "\n",
    "    # 透過画像を中心座標に基づいて貼り付けるための位置を計算\n",
    "    x = center_position[0] - tr_width // 2\n",
    "    y = center_position[1] - tr_height // 2\n",
    "\n",
    "    print(tr_width)\n",
    "    # 透過画像を貼り付け\n",
    "    background.paste(transparent, (x, y), transparent)\n",
    "    \n",
    "    # 出力ファイル名を生成（座標とUUIDを含む）\n",
    "    output_filename = f'{rate}_{center_position[0]}_{center_position[1]}_{str(int(rate*88))}_{uuid.uuid4()}.png'\n",
    "\n",
    "\n",
    "    # 結果を保存\n",
    "    background.save(output_path+output_filename)\n"
   ]
  },
  {
   "cell_type": "code",
   "execution_count": 8,
   "id": "aac008dc-2d12-4d06-803b-2c4e83d80fe8",
   "metadata": {},
   "outputs": [],
   "source": [
    "\n",
    "os.makedirs(\"image/paste\", exist_ok=True)"
   ]
  },
  {
   "cell_type": "markdown",
   "id": "f8c1a574-34f0-4255-a065-6ab2c8186364",
   "metadata": {},
   "source": [
    "## 使用例"
   ]
  },
  {
   "cell_type": "code",
   "execution_count": 15,
   "id": "faa4e501-b112-425f-b4c8-c82f4ea98c20",
   "metadata": {},
   "outputs": [
    {
     "name": "stdout",
     "output_type": "stream",
     "text": [
      "224\n"
     ]
    }
   ],
   "source": [
    "background_image_path = 'image/background/background_image_0.png'\n",
    "transparent_image_path = 'image/sponge_v2.png'\n",
    "\n",
    "# 透過画像の中心を配置する位置\n",
    "center_position = (224,224)  # 例として (100, 150) の座標を指定\n",
    "rate = 0.7\n",
    "# 出力画像のパス\n",
    "output_path = 'image/paste/'\n",
    "\n",
    "# 画像処理の実行\n",
    "paste_transparent_image_centered(background_image_path, transparent_image_path ,center_position,rate,output_path)"
   ]
  },
  {
   "cell_type": "markdown",
   "id": "a76d989d-bffb-4136-bd93-067404c37d0c",
   "metadata": {},
   "source": [
    "## データ生成"
   ]
  },
  {
   "cell_type": "code",
   "execution_count": 3,
   "id": "2f3eda2b-15e6-4386-a1e3-b76b73cf108a",
   "metadata": {},
   "outputs": [
    {
     "name": "stdout",
     "output_type": "stream",
     "text": [
      "['background_image_8.png', 'background_image_9.png', 'background_image_1.png', 'background_image_0.png', 'background_image_2.png', 'background_image_3.png', 'background_image_7.png', 'background_image_6.png', 'background_image_4.png', 'background_image_5.png']\n"
     ]
    }
   ],
   "source": [
    "data_path='image/background/'\n",
    "\n",
    "entries = os.listdir(data_path)\n",
    "\n",
    "# Filter to include only .jpg .png files\n",
    "img_files = [file for file in entries if file.endswith(('.jpg','.png'))]\n",
    "print(img_files)"
   ]
  },
  {
   "cell_type": "code",
   "execution_count": 12,
   "id": "ad095e01-ed69-4c3d-b7fe-309ff6fd40aa",
   "metadata": {},
   "outputs": [
    {
     "name": "stdout",
     "output_type": "stream",
     "text": [
      "111\n",
      "18\n",
      "130\n",
      "18\n",
      "74\n",
      "186\n",
      "55\n",
      "167\n",
      "186\n",
      "37\n"
     ]
    }
   ],
   "source": [
    "N = 10\n",
    "\n",
    "for i in range(N):\n",
    "    global img_files\n",
    "    background_image_path =  data_path + random.choice(img_files)\n",
    "    transparent_image_path = 'image/sponge_v3.png'\n",
    "    \n",
    "    rate = random.choice([0.1,0.2,0.3,0.4,0.5,0.6,0.7])\n",
    "    \n",
    "    center_position = (random.randint(0, 224 ), random.randint(0, 224))\n",
    "    \n",
    "    paste_transparent_image_centered(background_image_path, transparent_image_path ,center_position,rate,output_path)"
   ]
  },
  {
   "cell_type": "code",
   "execution_count": null,
   "id": "1e5fa57b-1265-438d-845b-46164dc33422",
   "metadata": {},
   "outputs": [],
   "source": [
    "# center_positionを0から224までのランダムに設定\n",
    "   "
   ]
  }
 ],
 "metadata": {
  "kernelspec": {
   "display_name": "Python 3 (ipykernel)",
   "language": "python",
   "name": "python3"
  },
  "language_info": {
   "codemirror_mode": {
    "name": "ipython",
    "version": 3
   },
   "file_extension": ".py",
   "mimetype": "text/x-python",
   "name": "python",
   "nbconvert_exporter": "python",
   "pygments_lexer": "ipython3",
   "version": "3.11.2"
  }
 },
 "nbformat": 4,
 "nbformat_minor": 5
}
