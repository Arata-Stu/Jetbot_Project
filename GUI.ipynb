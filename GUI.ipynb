{
 "cells": [
  {
   "cell_type": "code",
   "execution_count": 1,
   "id": "right-assessment",
   "metadata": {},
   "outputs": [],
   "source": [
    "import traitlets\n",
    "import ipywidgets.widgets as widgets\n",
    "from IPython.display import display\n",
    "import threading\n",
    "\n",
    "# Camera and Motor Interface for JetBot\n",
    "from jetbot import Robot, Camera, bgr8_to_jpeg\n",
    "\n",
    "# Basic Python packages for image annotation\n",
    "from uuid import uuid1\n",
    "import os\n",
    "import json\n",
    "import glob\n",
    "import datetime\n",
    "import numpy as np\n",
    "import cv2\n",
    "import time\n"
   ]
  },
  {
   "cell_type": "code",
   "execution_count": 2,
   "id": "collective-suspect",
   "metadata": {},
   "outputs": [],
   "source": [
    "camera = Camera()"
   ]
  },
  {
   "cell_type": "code",
   "execution_count": 3,
   "id": "alternative-resort",
   "metadata": {},
   "outputs": [
    {
     "data": {
      "application/vnd.jupyter.widget-view+json": {
       "model_id": "7f5f7d913be74e4f81b89a336ce50f58",
       "version_major": 2,
       "version_minor": 0
      },
      "text/plain": [
       "Controller()"
      ]
     },
     "metadata": {},
     "output_type": "display_data"
    }
   ],
   "source": [
    "# コントローラの作成\n",
    "controller = widgets.Controller(index=0)\n",
    "display(controller)\n",
    "\n"
   ]
  },
  {
   "cell_type": "code",
   "execution_count": 4,
   "id": "honest-sherman",
   "metadata": {},
   "outputs": [],
   "source": [
    "def xy_uuid(x, y, r):\n",
    "    return 'xy_%03d_%03d_%03d_%s' % (x * widget_width / 2 + widget_width / 2, y * widget_height / 2 + widget_height / 2,r * widget_height / 4 + widget_height / 4, uuid1())\n",
    "\n",
    "def save_snapshot(change):\n",
    "    if change['new']:\n",
    "        uuid = xy_uuid(x_slider.value, y_slider.value,r_slider.value)\n",
    "        image_path = os.path.join(DATASET_DIR, uuid + '.jpg')\n",
    "        with open(image_path, 'wb') as f:\n",
    "            f.write(image_widget.value)\n",
    "        free_count.value = len(glob.glob(os.path.join(DATASET_DIR, '*.jpg')))\n"
   ]
  },
  {
   "cell_type": "code",
   "execution_count": 10,
   "id": "spanish-boxing",
   "metadata": {},
   "outputs": [],
   "source": [
    "widget_width = camera.width\n",
    "widget_height = camera.height\n",
    "\n",
    "image_widget = widgets.Image(format='jpeg', width=widget_width, height=widget_height)\n",
    "target_widget = widgets.Image(format='jpeg', width=widget_width, height=widget_height)\n",
    "\n",
    "# スライダーの作成\n",
    "x_slider = widgets.FloatSlider(description='X', min=-1.0, max=1.0, value=0,step = 0.01)\n",
    "y_slider = widgets.FloatSlider(description='Y', min=-1.0, max=1.0, value=0,step = 0.01)\n",
    "r_slider = widgets.FloatSlider(description='R', min=-1.0, max=1.0, value=0,step = 0.01)\n",
    "\n",
    "stick_input_x_slider = widgets.FloatSlider(description='Stick Input X', min=-1.0, max=1.0, value=0,step=0.01)\n",
    "stick_input_y_slider = widgets.FloatSlider(description='Stick Input Y', min=-1.0, max=1.0, value=0,step=0.01)\n",
    "stick_input_r_slider = widgets.FloatSlider(description='Stick Input R', min=-1.0, max=1.0, value=0,step=0.01)\n",
    "\n",
    "dead_zone_slider = widgets.FloatSlider(description='Dead Zone', min=0.0, max=1.0, value=0.1,step=0.01)\n",
    "step_slider = widgets.FloatSlider(description='Step Size', min=0.001, max=1.000, value=0.1,step = 0.0001)\n",
    "\n",
    "\n",
    "\n",
    "def display_xy(camera_image):\n",
    "    image = np.copy(camera_image)\n",
    "    \n",
    "    pos_x = int(x_slider.value * widget_width / 2 + widget_width / 2)\n",
    "    pos_y = int(y_slider.value * widget_height / 2 + widget_height / 2)\n",
    "    pos_r = int(r_slider.value * widget_width / 4 + widget_width / 4)\n",
    "    \n",
    "    if pos_r <= 2:\n",
    "        pos_r = 2\n",
    "    \n",
    "    image = cv2.circle(image, (pos_x, pos_y), pos_r, (0, 255, 0),2)\n",
    "    jpeg_image = bgr8_to_jpeg(image)\n",
    "    \n",
    "    return jpeg_image\n",
    "\n",
    "\n",
    "# X座標を更新する関数\n",
    "def update_x():\n",
    "    dead_zone = dead_zone_slider.value\n",
    "    step = step_slider.value\n",
    "    x_change = 0\n",
    "    y_change = 0\n",
    "    r_change = 0\n",
    "\n",
    "    if abs(stick_input_x_slider.value) > dead_zone:\n",
    "        x_change = stick_input_x_slider.value * step\n",
    "        \n",
    "    if abs(stick_input_y_slider.value) > dead_zone:\n",
    "        y_change = stick_input_y_slider.value * step\n",
    "        \n",
    "    if abs(stick_input_r_slider.value) > dead_zone:\n",
    "        r_change = stick_input_r_slider.value * step\n",
    "\n",
    "    x_slider.value = max(min(x_slider.max, x_slider.value + x_change), x_slider.min)\n",
    "    y_slider.value = max(min(y_slider.max, y_slider.value + y_change), y_slider.min)\n",
    "    r_slider.value = max(min(r_slider.max, r_slider.value + r_change), r_slider.min)\n",
    "\n",
    "    # 定期的にこの関数を再度呼び出す\n",
    "    threading.Timer(0.05, update_x).start()\n",
    "\n",
    "    \n",
    "controller.buttons[5].observe(save_snapshot, names='value')\n",
    "\n",
    "time.sleep(1)\n",
    "traitlets.dlink((camera, 'value'), (image_widget, 'value'), transform=bgr8_to_jpeg)\n",
    "traitlets.dlink((camera, 'value'), (target_widget, 'value'), transform=display_xy)\n",
    "\n",
    "# 最初の更新を開始\n",
    "update_x()\n",
    "\n",
    "option = widgets.VBox([dead_zone_slider, step_slider])\n",
    "position_x = widgets.VBox([x_slider, stick_input_x_slider])\n",
    "position_y = widgets.VBox([y_slider, stick_input_y_slider])\n",
    "position_r = widgets.VBox([r_slider, stick_input_r_slider])\n",
    "\n",
    "\n"
   ]
  },
  {
   "cell_type": "code",
   "execution_count": 11,
   "id": "interstate-journey",
   "metadata": {},
   "outputs": [],
   "source": [
    "img_box = widgets.HBox([image_widget, target_widget])"
   ]
  },
  {
   "cell_type": "code",
   "execution_count": 12,
   "id": "damaged-parker",
   "metadata": {},
   "outputs": [
    {
     "data": {
      "text/plain": [
       "DirectionalLink(source=(Axis(value=-1.5259021896696368e-05), 'value'), target=(FloatSlider(value=0.0, descript…"
      ]
     },
     "metadata": {},
     "output_type": "display_data"
    }
   ],
   "source": [
    "# スティック入力をスライダーにリンク\n",
    "widgets.jsdlink((controller.axes[0], 'value'), (stick_input_x_slider, 'value'))\n",
    "widgets.jsdlink((controller.axes[1], 'value'), (stick_input_y_slider, 'value'))\n",
    "widgets.jsdlink((controller.axes[3], 'value'), (stick_input_r_slider, 'value'))"
   ]
  },
  {
   "cell_type": "code",
   "execution_count": 13,
   "id": "early-conversion",
   "metadata": {},
   "outputs": [
    {
     "data": {
      "application/vnd.jupyter.widget-view+json": {
       "model_id": "23d07e68905946d48db46b36b3449453",
       "version_major": 2,
       "version_minor": 0
      },
      "text/plain": [
       "HBox(children=(VBox(children=(FloatSlider(value=0.1, description='Dead Zone', max=1.0, step=0.01), FloatSlider…"
      ]
     },
     "metadata": {},
     "output_type": "display_data"
    }
   ],
   "source": [
    "\n",
    "display(widgets.HBox([option,position_x,position_y,position_r]))"
   ]
  },
  {
   "cell_type": "code",
   "execution_count": 14,
   "id": "happy-priority",
   "metadata": {},
   "outputs": [
    {
     "data": {
      "application/vnd.jupyter.widget-view+json": {
       "model_id": "12756e1d6db64fd6a91e7522f500921b",
       "version_major": 2,
       "version_minor": 0
      },
      "text/plain": [
       "HBox(children=(Image(value=b'\\xff\\xd8\\xff\\xe0\\x00\\x10JFIF\\x00\\x01\\x01\\x00\\x00\\x01\\x00\\x01\\x00\\x00\\xff\\xdb\\x00C…"
      ]
     },
     "metadata": {},
     "output_type": "display_data"
    }
   ],
   "source": [
    "display(img_box)"
   ]
  },
  {
   "cell_type": "code",
   "execution_count": null,
   "id": "cheap-church",
   "metadata": {},
   "outputs": [],
   "source": [
    "#camera.stop()"
   ]
  }
 ],
 "metadata": {
  "kernelspec": {
   "display_name": "Python 3",
   "language": "python",
   "name": "python3"
  },
  "language_info": {
   "codemirror_mode": {
    "name": "ipython",
    "version": 3
   },
   "file_extension": ".py",
   "mimetype": "text/x-python",
   "name": "python",
   "nbconvert_exporter": "python",
   "pygments_lexer": "ipython3",
   "version": "3.6.9"
  }
 },
 "nbformat": 4,
 "nbformat_minor": 5
}
