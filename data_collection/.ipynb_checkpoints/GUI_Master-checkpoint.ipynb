{
 "cells": [
  {
   "cell_type": "code",
   "execution_count": 1,
   "id": "approved-machine",
   "metadata": {},
   "outputs": [
    {
     "ename": "ModuleNotFoundError",
     "evalue": "No module named 'jetbot'",
     "output_type": "error",
     "traceback": [
      "\u001b[0;31m---------------------------------------------------------------------------\u001b[0m",
      "\u001b[0;31mModuleNotFoundError\u001b[0m                       Traceback (most recent call last)",
      "Cell \u001b[0;32mIn[1], line 18\u001b[0m\n\u001b[1;32m     13\u001b[0m \u001b[38;5;28;01mimport\u001b[39;00m \u001b[38;5;21;01mtime\u001b[39;00m\n\u001b[1;32m     17\u001b[0m \u001b[38;5;66;03m# Camera and Motor Interface for JetBot\u001b[39;00m\n\u001b[0;32m---> 18\u001b[0m \u001b[38;5;28;01mfrom\u001b[39;00m \u001b[38;5;21;01mjetbot\u001b[39;00m \u001b[38;5;28;01mimport\u001b[39;00m Robot, Camera, bgr8_to_jpeg\n\u001b[1;32m     20\u001b[0m \u001b[38;5;66;03m# Basic Python packages for image annotation\u001b[39;00m\n\u001b[1;32m     21\u001b[0m \u001b[38;5;28;01mfrom\u001b[39;00m \u001b[38;5;21;01muuid\u001b[39;00m \u001b[38;5;28;01mimport\u001b[39;00m uuid1\n",
      "\u001b[0;31mModuleNotFoundError\u001b[0m: No module named 'jetbot'"
     ]
    }
   ],
   "source": [
    "import traitlets\n",
    "import ipywidgets.widgets as widgets\n",
    "from ipywidgets import HTML\n",
    "from IPython.display import display\n",
    "import threading\n",
    "\n",
    "# from matplotlib import pyplot as plt\n",
    "import numpy as np\n",
    "\n",
    "import cv2\n",
    "import os\n",
    "from PIL import Image\n",
    "import time\n",
    "\n",
    "\n",
    "\n",
    "# Camera and Motor Interface for JetBot\n",
    "from jetbot import Robot, Camera, bgr8_to_jpeg\n",
    "\n",
    "# Basic Python packages for image annotation\n",
    "from uuid import uuid1\n",
    "\n",
    "import json\n",
    "import glob\n",
    "import datetime\n",
    "\n"
   ]
  },
  {
   "cell_type": "markdown",
   "id": "liquid-dispute",
   "metadata": {},
   "source": [
    "## スナップショット"
   ]
  },
  {
   "cell_type": "markdown",
   "id": "noble-broadcasting",
   "metadata": {},
   "source": [
    "####  ディレクトリ作成"
   ]
  },
  {
   "cell_type": "code",
   "execution_count": 2,
   "id": "obvious-harrison",
   "metadata": {},
   "outputs": [],
   "source": [
    "import os\n",
    "\n",
    "dir_path = 'dataset/'\n",
    "# we have this \"try/except\" statement because these next functions can throw an error if the directories exist already\n",
    "try:\n",
    "    os.makedirs(dir_path)\n",
    "    \n",
    "except FileExistsError:\n",
    "    print('Directories not created because they already exist')"
   ]
  },
  {
   "cell_type": "code",
   "execution_count": 4,
   "id": "dried-indian",
   "metadata": {},
   "outputs": [],
   "source": [
    "def xy_uuid(x, y, r):\n",
    "    return 'xy_%03d_%03d_%03d_%s' % (x * widget_width / 2 + widget_width / 2, y * widget_height / 2 + widget_height / 2,r * widget_height / 4 + widget_height / 4, uuid1())\n",
    "\n",
    "def save_snapshot(change):\n",
    "    if change['new']:\n",
    "        uuid = xy_uuid(pos_x_slider.value, pos_y_slider.value,pos_r_slider.value)\n",
    "        image_path = os.path.join(dir_path, uuid + '.jpg')\n",
    "        with open(image_path, 'wb') as f:\n",
    "            f.write(camera_widget.value)\n",
    "        free_count.value = len(glob.glob(os.path.join(dir_path, '*.jpg')))"
   ]
  },
  {
   "cell_type": "code",
   "execution_count": 5,
   "id": "signal-ordinance",
   "metadata": {},
   "outputs": [
    {
     "ename": "NameError",
     "evalue": "name 'Camera' is not defined",
     "output_type": "error",
     "traceback": [
      "\u001b[0;31m---------------------------------------------------------------------------\u001b[0m",
      "\u001b[0;31mNameError\u001b[0m                                 Traceback (most recent call last)",
      "Cell \u001b[0;32mIn[5], line 1\u001b[0m\n\u001b[0;32m----> 1\u001b[0m camera \u001b[38;5;241m=\u001b[39m Camera()\n",
      "\u001b[0;31mNameError\u001b[0m: name 'Camera' is not defined"
     ]
    }
   ],
   "source": [
    "camera = Camera()\n"
   ]
  },
  {
   "cell_type": "code",
   "execution_count": 6,
   "id": "nutritional-extension",
   "metadata": {},
   "outputs": [
    {
     "data": {
      "application/vnd.jupyter.widget-view+json": {
       "model_id": "7b7bf395fc7f4629872356222f765397",
       "version_major": 2,
       "version_minor": 0
      },
      "text/plain": [
       "Controller()"
      ]
     },
     "metadata": {},
     "output_type": "display_data"
    }
   ],
   "source": [
    "controller = widgets.Controller(index=0)\n",
    "display(controller)"
   ]
  },
  {
   "cell_type": "code",
   "execution_count": 7,
   "id": "attached-works",
   "metadata": {},
   "outputs": [
    {
     "ename": "NameError",
     "evalue": "name 'glob' is not defined",
     "output_type": "error",
     "traceback": [
      "\u001b[0;31m---------------------------------------------------------------------------\u001b[0m",
      "\u001b[0;31mNameError\u001b[0m                                 Traceback (most recent call last)",
      "Cell \u001b[0;32mIn[7], line 4\u001b[0m\n\u001b[1;32m      2\u001b[0m button_layout \u001b[38;5;241m=\u001b[39m widgets\u001b[38;5;241m.\u001b[39mLayout(width\u001b[38;5;241m=\u001b[39m\u001b[38;5;124m'\u001b[39m\u001b[38;5;124m128px\u001b[39m\u001b[38;5;124m'\u001b[39m, height\u001b[38;5;241m=\u001b[39m\u001b[38;5;124m'\u001b[39m\u001b[38;5;124m64px\u001b[39m\u001b[38;5;124m'\u001b[39m)\n\u001b[1;32m      3\u001b[0m free_button \u001b[38;5;241m=\u001b[39m widgets\u001b[38;5;241m.\u001b[39mButton(description\u001b[38;5;241m=\u001b[39m\u001b[38;5;124m'\u001b[39m\u001b[38;5;124msnapshot\u001b[39m\u001b[38;5;124m'\u001b[39m, button_style\u001b[38;5;241m=\u001b[39m\u001b[38;5;124m'\u001b[39m\u001b[38;5;124msuccess\u001b[39m\u001b[38;5;124m'\u001b[39m, layout\u001b[38;5;241m=\u001b[39mbutton_layout)\n\u001b[0;32m----> 4\u001b[0m free_count \u001b[38;5;241m=\u001b[39m widgets\u001b[38;5;241m.\u001b[39mIntText(layout\u001b[38;5;241m=\u001b[39mbutton_layout, value\u001b[38;5;241m=\u001b[39m\u001b[38;5;28mlen\u001b[39m(glob\u001b[38;5;241m.\u001b[39mglob(os\u001b[38;5;241m.\u001b[39mpath\u001b[38;5;241m.\u001b[39mjoin(dir_path, \u001b[38;5;124m'\u001b[39m\u001b[38;5;124m*.jpg\u001b[39m\u001b[38;5;124m'\u001b[39m))))\n\u001b[1;32m      6\u001b[0m button_set \u001b[38;5;241m=\u001b[39m widgets\u001b[38;5;241m.\u001b[39mHBox([free_count, free_button])\n\u001b[1;32m      8\u001b[0m \u001b[38;5;66;03m#操作関連\u001b[39;00m\n",
      "\u001b[0;31mNameError\u001b[0m: name 'glob' is not defined"
     ]
    }
   ],
   "source": [
    "#snapshotのGUI\n",
    "button_layout = widgets.Layout(width='128px', height='64px')\n",
    "free_button = widgets.Button(description='snapshot', button_style='success', layout=button_layout)\n",
    "free_count = widgets.IntText(layout=button_layout, value=len(glob.glob(os.path.join(dir_path, '*.jpg'))))\n",
    "\n",
    "button_set = widgets.HBox([free_count, free_button])\n",
    "\n",
    "#操作関連\n",
    "pos_x_slider = widgets.FloatSlider(description='X', min=-1.0, max=1.0, value=0,step = 0.01)\n",
    "pos_y_slider = widgets.FloatSlider(description='Y', min=-1.0, max=1.0, value=0,step = 0.01)\n",
    "pos_r_slider = widgets.FloatSlider(description='R', min=-1.0, max=1.0, value=0,step = 0.01)\n",
    "\n",
    "stick_input_x_slider = widgets.FloatSlider(description='Stick Input X', min=-1.0, max=1.0, value=0,step=0.01)\n",
    "stick_input_y_slider = widgets.FloatSlider(description='Stick Input Y', min=-1.0, max=1.0, value=0,step=0.01)\n",
    "stick_input_r_slider = widgets.FloatSlider(description='Stick Input R', min=-1.0, max=1.0, value=0,step=0.01)\n",
    "\n",
    "dead_zone_slider = widgets.FloatSlider(description='Dead Zone', min=0.0, max=1.0, value=0.1,step=0.01)\n",
    "step_slider = widgets.FloatSlider(description='Step Size', min=0.001, max=1.000, value=0.1,step = 0.0001)\n",
    "\n",
    "option = widgets.VBox([dead_zone_slider, step_slider])\n",
    "\n",
    "\n",
    "widget_width = 224\n",
    "widget_height = 224\n",
    "\n",
    "camera_widget = widgets.Image(format='jpg', width=widget_width, height=widget_height)\n",
    "target_widget = widgets.Image(format='jpg', width=widget_width, height=widget_height)\n",
    "\n",
    "\n",
    "def display_xy(camera_image):\n",
    "    image = np.copy(camera_image)\n",
    "    \n",
    "    update_x()\n",
    "    \n",
    "#     img = cv2.imread('image/sample.png')\n",
    "    pos_x = int(pos_x_slider.value * widget_width / 2 + widget_width / 2)\n",
    "    pos_y = int(pos_y_slider.value * widget_height / 2 + widget_height / 2)\n",
    "    pos_r = int(pos_r_slider.value * widget_width / 4 + widget_width / 4)\n",
    "    \n",
    "    if pos_r <= 2:\n",
    "        pos_r = 2\n",
    "    \n",
    "    img = cv2.circle(image, (pos_x, pos_y), pos_r, (0, 255, 0),2)\n",
    "    jpeg_image = bgr8_to_jpeg(image)\n",
    "    \n",
    "    return jpeg_image\n",
    "\n",
    "\n",
    "# X座標を更新する関数\n",
    "def update_x():\n",
    "    dead_zone = dead_zone_slider.value\n",
    "    step = step_slider.value\n",
    "    x_change = 0\n",
    "    y_change = 0\n",
    "    r_change = 0\n",
    "\n",
    "    if abs(stick_input_x_slider.value) > dead_zone:\n",
    "        x_change = step * stick_input_x_slider.value / abs(stick_input_x_slider.value)\n",
    "        \n",
    "    if abs(stick_input_y_slider.value) > dead_zone:\n",
    "        y_change = step * stick_input_y_slider.value / abs(stick_input_y_slider.value)\n",
    "        \n",
    "    if abs(stick_input_r_slider.value) > dead_zone:\n",
    "        r_change = step * stick_input_r_slider.value / abs(stick_input_r_slider.value)\n",
    "\n",
    "    pos_x_slider.value = max(min(pos_x_slider.max, pos_x_slider.value + x_change), pos_x_slider.min)\n",
    "    pos_y_slider.value = max(min(pos_y_slider.max, pos_y_slider.value + y_change), pos_y_slider.min)\n",
    "    pos_r_slider.value = max(min(pos_r_slider.max, pos_r_slider.value + r_change), pos_r_slider.min)\n",
    "\n",
    "    # 定期的にこの関数を再度呼び出す\n",
    "#     threading.Timer(0.05, update_x).start()\n",
    "\n",
    "    \n",
    "# controller.buttons[5].observe(save_snapshot, names='value')\n",
    "controller.buttons[7].observe(save_snapshot, names='value')\n",
    "free_button.on_click(lambda x: save_snapshot())\n",
    "\n",
    "# 最初の更新を開始\n",
    "update_x()\n",
    "\n",
    "option = widgets.VBox([dead_zone_slider, step_slider])\n",
    "position_x = widgets.VBox([pos_x_slider, stick_input_x_slider])\n",
    "position_y = widgets.VBox([pos_y_slider, stick_input_y_slider])\n",
    "position_r = widgets.VBox([pos_r_slider, stick_input_r_slider])"
   ]
  },
  {
   "cell_type": "code",
   "execution_count": 8,
   "id": "solid-friendly",
   "metadata": {},
   "outputs": [
    {
     "ename": "NameError",
     "evalue": "name 'button_set' is not defined",
     "output_type": "error",
     "traceback": [
      "\u001b[0;31m---------------------------------------------------------------------------\u001b[0m",
      "\u001b[0;31mNameError\u001b[0m                                 Traceback (most recent call last)",
      "Cell \u001b[0;32mIn[8], line 14\u001b[0m\n\u001b[1;32m      9\u001b[0m controller_html\u001b[38;5;241m=\u001b[39mHTML(\n\u001b[1;32m     10\u001b[0m     value\u001b[38;5;241m=\u001b[39m\u001b[38;5;124m\"\u001b[39m\u001b[38;5;124mコントローラの設定\u001b[39m\u001b[38;5;124m\"\u001b[39m\n\u001b[1;32m     11\u001b[0m )\n\u001b[1;32m     13\u001b[0m \u001b[38;5;66;03m###データ集め\u001b[39;00m\n\u001b[0;32m---> 14\u001b[0m option_layout \u001b[38;5;241m=\u001b[39m widgets\u001b[38;5;241m.\u001b[39mVBox([space(\u001b[38;5;241m0\u001b[39m,\u001b[38;5;241m30\u001b[39m),button_set,space(\u001b[38;5;241m0\u001b[39m,\u001b[38;5;241m30\u001b[39m),controller_html,option])\n\u001b[1;32m     15\u001b[0m \u001b[38;5;66;03m#image_layout = widgets.HBox([image_placeholder,image_placeholder])\u001b[39;00m\n\u001b[1;32m     16\u001b[0m image_layout \u001b[38;5;241m=\u001b[39m widgets\u001b[38;5;241m.\u001b[39mHBox([camera_widget, target_widget])\n",
      "\u001b[0;31mNameError\u001b[0m: name 'button_set' is not defined"
     ]
    }
   ],
   "source": [
    "# 空白を作成\n",
    "def space(width,height):\n",
    "    width = str(width)+'px'\n",
    "    height = str(height)+'px'\n",
    "    return widgets.Box(layout=widgets.Layout(width = width,height = height))\n",
    "\n",
    "\n",
    "#コントローラのGUI\n",
    "controller_html=HTML(\n",
    "    value=\"コントローラの設定\"\n",
    ")\n",
    "\n",
    "###データ集め\n",
    "option_layout = widgets.VBox([space(0,30),button_set,space(0,30),controller_html,option])\n",
    "#image_layout = widgets.HBox([image_placeholder,image_placeholder])\n",
    "image_layout = widgets.HBox([camera_widget, target_widget])\n",
    "dataCollect_layout = widgets.HBox([image_layout,space(30,0),option_layout])\n"
   ]
  },
  {
   "cell_type": "code",
   "execution_count": 9,
   "id": "proof-recommendation",
   "metadata": {},
   "outputs": [
    {
     "ename": "IndexError",
     "evalue": "tuple index out of range",
     "output_type": "error",
     "traceback": [
      "\u001b[0;31m---------------------------------------------------------------------------\u001b[0m",
      "\u001b[0;31mIndexError\u001b[0m                                Traceback (most recent call last)",
      "Cell \u001b[0;32mIn[9], line 2\u001b[0m\n\u001b[1;32m      1\u001b[0m \u001b[38;5;66;03m# スティック入力をスライダーにリンク\u001b[39;00m\n\u001b[0;32m----> 2\u001b[0m widgets\u001b[38;5;241m.\u001b[39mjsdlink((controller\u001b[38;5;241m.\u001b[39maxes[\u001b[38;5;241m0\u001b[39m], \u001b[38;5;124m'\u001b[39m\u001b[38;5;124mvalue\u001b[39m\u001b[38;5;124m'\u001b[39m), (stick_input_x_slider, \u001b[38;5;124m'\u001b[39m\u001b[38;5;124mvalue\u001b[39m\u001b[38;5;124m'\u001b[39m))\n\u001b[1;32m      3\u001b[0m widgets\u001b[38;5;241m.\u001b[39mjsdlink((controller\u001b[38;5;241m.\u001b[39maxes[\u001b[38;5;241m1\u001b[39m], \u001b[38;5;124m'\u001b[39m\u001b[38;5;124mvalue\u001b[39m\u001b[38;5;124m'\u001b[39m), (stick_input_y_slider, \u001b[38;5;124m'\u001b[39m\u001b[38;5;124mvalue\u001b[39m\u001b[38;5;124m'\u001b[39m))\n\u001b[1;32m      4\u001b[0m widgets\u001b[38;5;241m.\u001b[39mjsdlink((controller\u001b[38;5;241m.\u001b[39maxes[\u001b[38;5;241m3\u001b[39m], \u001b[38;5;124m'\u001b[39m\u001b[38;5;124mvalue\u001b[39m\u001b[38;5;124m'\u001b[39m), (stick_input_r_slider, \u001b[38;5;124m'\u001b[39m\u001b[38;5;124mvalue\u001b[39m\u001b[38;5;124m'\u001b[39m))\n",
      "\u001b[0;31mIndexError\u001b[0m: tuple index out of range"
     ]
    }
   ],
   "source": [
    "# スティック入力をスライダーにリンク\n",
    "widgets.jsdlink((controller.axes[0], 'value'), (stick_input_x_slider, 'value'))\n",
    "widgets.jsdlink((controller.axes[1], 'value'), (stick_input_y_slider, 'value'))\n",
    "widgets.jsdlink((controller.axes[3], 'value'), (stick_input_r_slider, 'value'))"
   ]
  },
  {
   "cell_type": "code",
   "execution_count": 10,
   "id": "professional-ending",
   "metadata": {},
   "outputs": [
    {
     "ename": "NameError",
     "evalue": "name 'camera' is not defined",
     "output_type": "error",
     "traceback": [
      "\u001b[0;31m---------------------------------------------------------------------------\u001b[0m",
      "\u001b[0;31mNameError\u001b[0m                                 Traceback (most recent call last)",
      "Cell \u001b[0;32mIn[10], line 1\u001b[0m\n\u001b[0;32m----> 1\u001b[0m traitlets\u001b[38;5;241m.\u001b[39mdlink((camera, \u001b[38;5;124m'\u001b[39m\u001b[38;5;124mvalue\u001b[39m\u001b[38;5;124m'\u001b[39m), (camera_widget, \u001b[38;5;124m'\u001b[39m\u001b[38;5;124mvalue\u001b[39m\u001b[38;5;124m'\u001b[39m), transform\u001b[38;5;241m=\u001b[39mbgr8_to_jpeg)\n\u001b[1;32m      2\u001b[0m traitlets\u001b[38;5;241m.\u001b[39mdlink((camera, \u001b[38;5;124m'\u001b[39m\u001b[38;5;124mvalue\u001b[39m\u001b[38;5;124m'\u001b[39m), (target_widget, \u001b[38;5;124m'\u001b[39m\u001b[38;5;124mvalue\u001b[39m\u001b[38;5;124m'\u001b[39m), transform\u001b[38;5;241m=\u001b[39mdisplay_xy)\n",
      "\u001b[0;31mNameError\u001b[0m: name 'camera' is not defined"
     ]
    }
   ],
   "source": [
    "traitlets.dlink((camera, 'value'), (camera_widget, 'value'), transform=bgr8_to_jpeg)\n",
    "traitlets.dlink((camera, 'value'), (target_widget, 'value'), transform=display_xy)"
   ]
  },
  {
   "cell_type": "code",
   "execution_count": 11,
   "id": "disturbed-malawi",
   "metadata": {},
   "outputs": [],
   "source": [
    "# display(dataCollect_layout)\n"
   ]
  },
  {
   "cell_type": "markdown",
   "id": "interracial-triangle",
   "metadata": {},
   "source": [
    "# クラス分類 "
   ]
  },
  {
   "cell_type": "markdown",
   "id": "controversial-pennsylvania",
   "metadata": {},
   "source": [
    "### ディレクトリ作成"
   ]
  },
  {
   "cell_type": "code",
   "execution_count": 3,
   "id": "sunrise-bankruptcy",
   "metadata": {},
   "outputs": [],
   "source": [
    "classes = ['left_near', 'left_just', 'left_far', \n",
    "            'middle_near', 'middle_just', 'middle_far', \n",
    "            'right_near', 'right_just', 'right_far']\n",
    "\n",
    "os.makedirs('class',exist_ok = True)\n",
    "for s in classes:\n",
    "    os.makedirs('class/'+s,exist_ok=True) "
   ]
  },
  {
   "cell_type": "code",
   "execution_count": 12,
   "id": "outer-character",
   "metadata": {},
   "outputs": [],
   "source": [
    "# インタラクティブなウィジェットを作成\n",
    "x1_slider = widgets.IntSlider(min=0, max=224/2, value=10, description='x1:')\n",
    "x2_slider = widgets.IntSlider(min=0, max=224/2, value=10, description='x2:')\n",
    "\n",
    "x_slider = widgets.IntSlider(min=0, max=300, value=150, description='X:')\n",
    "y_slider = widgets.IntSlider(min=0, max=300, value=150, description='Y:')\n",
    "rad_start_slider = widgets.IntSlider(min=0, max=300, value=50, description='Rad Start:')\n",
    "rad_end_slider = widgets.IntSlider(min=0, max=300, value=100, description='Rad End:')\n",
    "\n",
    "img_widget_1 = widgets.Image(format='jpg', width=224, height=224)\n",
    "img_widget_2 = widgets.Image(format='jpg', width=224, height=224)\n",
    "\n",
    "#カウンタ\n",
    "counters = [widgets.IntText(layout=button_layout, value=len(os.listdir('class/'+classes[0]))),\n",
    "           widgets.IntText(layout=button_layout, value=len(os.listdir('class/'+classes[1]))),\n",
    "           widgets.IntText(layout=button_layout, value=len(os.listdir('class/'+classes[2]))),\n",
    "           widgets.IntText(layout=button_layout, value=len(os.listdir('class/'+classes[3]))),\n",
    "           widgets.IntText(layout=button_layout, value=len(os.listdir('class/'+classes[4]))),\n",
    "           widgets.IntText(layout=button_layout, value=len(os.listdir('class/'+classes[5]))),\n",
    "           widgets.IntText(layout=button_layout, value=len(os.listdir('class/'+classes[6]))),\n",
    "           widgets.IntText(layout=button_layout, value=len(os.listdir('class/'+classes[7]))),\n",
    "           widgets.IntText(layout=button_layout, value=len(os.listdir('class/'+classes[8])))]\n"
   ]
  },
  {
   "cell_type": "code",
   "execution_count": 13,
   "id": "governing-civilization",
   "metadata": {},
   "outputs": [],
   "source": [
    "\n",
    "\n",
    "def LineTest(camera_image):\n",
    "    image = np.copy(camera_image)\n",
    "    \n",
    "    x1 = x1_slider.value\n",
    "    x2 = x2_slider.value\n",
    "    mid_x = 112\n",
    "    mid_y = 112\n",
    "    new_x1 = 2 * mid_x - x1\n",
    "    new_x2 = 2 * mid_x - x2\n",
    "    \n",
    "    # 線の色と太さを定義\n",
    "    blue_color = (255, 0, 0)\n",
    "    thickness = 2\n",
    "    \n",
    "    # 画像上に線を描画\n",
    "    image = cv2.line(image, (int(x1), 0), (int(x2), image.shape[0]), blue_color, thickness)\n",
    "    image = cv2.line(image, (new_x1, 0), (new_x2, image.shape[0]), blue_color, thickness)\n",
    "    \n",
    "    jpeg_image = bgr8_to_jpeg(image)\n",
    "    \n",
    "    return jpeg_image\n",
    "\n",
    "def display_line(camera_image):\n",
    "    image = np.copy(camera_image)\n",
    "    \n",
    "\n",
    "    x1 = x1_slider.value\n",
    "    x2 = x2_slider.value\n",
    "    mid_x = 112\n",
    "    mid_y = 112\n",
    "    new_x1 = 2 * mid_x - x1\n",
    "    new_x2 = 2 * mid_x - x2\n",
    "    \n",
    "    \n",
    "    blue_color = (255, 0, 0)\n",
    "    thickness = 2\n",
    "    \n",
    "    img = cv2.line(image, (int(x1), 0), (int(x2), image.shape[0]), blue_color, thickness)\n",
    "    img = cv2.line(image, (new_x1, 0), (new_x2, image.shape[0]), blue_color, thickness)\n",
    "    \n",
    "    jpeg_image = bgr8_to_jpeg(image)\n",
    "    \n",
    "#     # 画像をウィジェットに設定\n",
    "#     _, encoded_image = cv2.imencode('.png', img)\n",
    "#     camera_widget.value = encoded_image.tobytes()\n",
    "    \n",
    "    return jpeg_image\n",
    "    \n",
    "    \n",
    "def CircleTest(camera_image):\n",
    "    img = np.copy(camera_image)\n",
    "    \n",
    "    x = x_slider.value\n",
    "    y = y_slider.value\n",
    "    rad_start = rad_start_slider.value\n",
    "    rad_end = rad_end_slider.value\n",
    "\n",
    "    # 色と太さの設定\n",
    "    red_color = (0, 0, 255)\n",
    "    green_color = (0, 255, 0)\n",
    "    yellow_color = (0, 255, 255)\n",
    "    blue_color = (255 , 0 , 0)\n",
    "    circle_thickness = -1\n",
    "    thickness = 2\n",
    "\n",
    "    # 円を描画\n",
    "    img = cv2.circle(img, (x, y), rad_start, blue_color, thickness)\n",
    "    img = cv2.circle(img, (x, y), rad_end, green_color, thickness)\n",
    "    img = cv2.circle(img, (x, y), 2, red_color, circle_thickness)\n",
    "\n",
    "    jpeg_image = bgr8_to_jpeg(img)\n",
    "    \n",
    "    return jpeg_image\n",
    "    \n",
    "def update_line(change):\n",
    "    LineTest(camera)\n",
    "    \n",
    "    # スライダーの値が変更されたときのコールバック関数\n",
    "def update_image(camera):\n",
    "    CircleTest(x_slider.value, y_slider.value, rad_start_slider.value, rad_end_slider.value, img_widget_2, img_path)\n"
   ]
  },
  {
   "cell_type": "markdown",
   "id": "shaped-inflation",
   "metadata": {},
   "source": [
    "### クラス分類 - 分類処理関数"
   ]
  },
  {
   "cell_type": "code",
   "execution_count": 14,
   "id": "cardiac-toolbox",
   "metadata": {},
   "outputs": [],
   "source": [
    "def get_index(direction,distance):\n",
    "    \n",
    "    row = 0\n",
    "    column = 0\n",
    "    \n",
    "    if direction == 'left':\n",
    "        column = 0\n",
    "    elif direction == 'middle':\n",
    "        column = 1\n",
    "    elif direction == 'right':\n",
    "        column = 2\n",
    "        \n",
    "    if distance == 'near':\n",
    "        row = 0 \n",
    "    elif direction == 'just':\n",
    "        row = 1 \n",
    "    elif direction == 'far':\n",
    "        row = 2\n",
    "        \n",
    "    return 3*column + row\n",
    "    \n",
    "def fx(x1, x2, x, img): # 座標(x1, 0),(x2, img.shape[0])の2点を通る直線の式における、xがx(引数)の時のyを返す\n",
    "    y = img.shape[0] // (x2 - x1) * (x - x1)\n",
    "    return y\n",
    "    \n",
    "def directionClassify(x1, x2, x, y, img_path): # 方向分類\n",
    "    img = cv2.imread(img_path)\n",
    "    img = cv2.resize(img,(300,300)) \n",
    "    \n",
    "    img_width = 300\n",
    "    \n",
    "    \n",
    "    x1 = x1 * img.shape[1] // img_width\n",
    "    x2 = x2 * img.shape[1] // img_width\n",
    "    \n",
    "    mid_x = img.shape[1] // 2\n",
    "    new_x1 = 2 * mid_x - x1\n",
    "    new_x2 = 2 * mid_x - x2\n",
    "    \n",
    "    if x1 < x2:\n",
    "        if (x == x1 and y == 0) or (x == new_x1 and y == 0) or (x >= x2 and x <= new_x2):\n",
    "            direction = 'middle'\n",
    "        elif x > x1 and x < x2 and y <= fx(x1, x2, x, img):\n",
    "            direction = 'middle'\n",
    "        elif x > new_x2 and x < new_x1 and y <= fx(new_x1, new_x2, x, img):\n",
    "            direction = 'middle'\n",
    "        elif x >= 0 and x <= x1:\n",
    "            direction = 'left'\n",
    "        elif x > x1 and x < x2 and y > fx(x1, x2, x, img):\n",
    "            direction = 'left'\n",
    "        elif x >= new_x1 and x <= img.shape[1]:\n",
    "            direction = 'right'\n",
    "        elif x > new_x2 and x < new_x1 and y > fx(new_x1, new_x2, x, img):\n",
    "            direction = 'right'\n",
    "    elif x1 > x2:\n",
    "        if (x == x2 and y == img.shape[0]) or (x == new_x2 and y == img.shape[0]) or (x >= x1 and x <= new_x1):\n",
    "            direction = 'middle'\n",
    "        elif x > x2 and x < x1 and y >= fx(x1, x2, x, img):\n",
    "            direction = 'middle'\n",
    "        elif x > new_x1 and x < new_x2 and y >= fx(new_x1, new_x2, x, img):\n",
    "            direction = 'middle'\n",
    "        elif x >= 0 and x <= x2:\n",
    "            direction = 'left'\n",
    "        elif x > x2 and x < x1 and y < fx(x1, x2, x, img):\n",
    "            direction = 'left'\n",
    "        elif x >= new_x2 and x <= img.shape[1]:\n",
    "            direction = 'right'\n",
    "        elif x > new_x1 and x < new_x2 and y < fx(new_x1, new_x2, x, img):\n",
    "            direction = 'right'\n",
    "    elif x1 == x2:\n",
    "        if x >= 0 and x < x1:\n",
    "            direction = 'left'\n",
    "        elif x > new_x1 and x <= img.shape[1]:\n",
    "            direction = 'right'\n",
    "        else:\n",
    "            direction = 'middle'\n",
    "            \n",
    "    return direction\n",
    "        \n",
    "def distanceClassify(rad_start, rad_end, rad, img_path): # 距離分類\n",
    "    img = cv2.imread(img_path)\n",
    "    img = cv2.resize(img,(300,300)) \n",
    "    img_width = 300\n",
    "    \n",
    "    \n",
    "    #start = img.shape[1] // rad_start // 2 # justの下限\n",
    "    #end = img.shape[1] // rad_end // 2 # justの上限\n",
    "    \n",
    "    start = rad_start * img.shape[1] // img_width\n",
    "    end = rad_end * img.shape[1] // img_width\n",
    "    \n",
    "    if rad > 0 and rad < start:\n",
    "        distance = 'far'\n",
    "    elif rad > end:\n",
    "        distance = 'near'\n",
    "    else:\n",
    "        distance = 'just'\n",
    "        \n",
    "    return distance\n",
    "    \n",
    "def allClassify(x1, x2, x, y, rad_start, rad_end, rad, img_path): # 全体の分類\n",
    "    \n",
    "    \"\"\" 修正　\"\"\"\n",
    "    \n",
    "    img = cv2.imread(img_path)\n",
    "    #original_img = img\n",
    "    output_folder = ''\n",
    "    \n",
    "    direction = directionClassify(x1, x2, x, y, img_path)\n",
    "    distance = distanceClassify(rad_start, rad_end, rad, img_path)\n",
    "    \n",
    "    \n",
    "    \n",
    "    global file_name\n",
    "    output_folder = 'class/'+direction+'_'+distance+'/' + file_name\n",
    "    original_img = Image.open(img_path)\n",
    "    original_img.save(output_folder)\n",
    "    \n",
    "    n = get_index(direction,distance)\n",
    "    counters[n].value = len(os.listdir('class/'+direction+'_'+distance))\n",
    "        \n",
    "    print(output_folder)\n",
    "    \n",
    "\n",
    "def getrate(img_path):\n",
    "    ###Resizeする倍率を取得 座標や半径の調整に利用###\n",
    "    img = cv2.imread(img_path)\n",
    "    \n",
    "    return img.shape[0] / 300,img.shape[1] / 300\n",
    "    \n",
    "\n",
    "def get_x(path):\n",
    "    \"\"\"Gets the y value from the image filename\"\"\"\n",
    "    return (float(int(path.split(\"_\")[1])) ) \n",
    "\n",
    "def get_y(path):\n",
    "    \"\"\"Gets the y value from the image filename\"\"\"\n",
    "    return (float(int(path.split(\"_\")[2])) ) \n",
    "\n",
    "def get_r(path):\n",
    "    \"\"\"Gets the y value from the image filename\"\"\"\n",
    "    return (float(int(path.split(\"_\")[3])) )"
   ]
  },
  {
   "cell_type": "code",
   "execution_count": null,
   "id": "solid-solid",
   "metadata": {},
   "outputs": [],
   "source": []
  },
  {
   "cell_type": "code",
   "execution_count": null,
   "id": "associate-swedish",
   "metadata": {},
   "outputs": [],
   "source": []
  },
  {
   "cell_type": "code",
   "execution_count": 15,
   "id": "medical-minneapolis",
   "metadata": {},
   "outputs": [],
   "source": [
    "# 画像のパスを設定\n",
    "img_path = 'image/sample.png' # 画像のパスを適切なものに変更してください\n",
    "\n",
    "# スライダーの値が変更されたときにコールバック関数を実行\n",
    "x1_slider.observe(LineTest, names='value')\n",
    "x2_slider.observe(LineTest, names='value')\n",
    "\n",
    "# スライダーの変更を監視\n",
    "x_slider.observe(CircleTest, names='value')\n",
    "y_slider.observe(CircleTest, names='value')\n",
    "rad_start_slider.observe(CircleTest, names='value')\n",
    "rad_end_slider.observe(CircleTest, names='value')\n",
    "\n",
    "# # 初期表示\n",
    "# LineTest(camera)\n",
    "# # 初期画像を設定\n",
    "# CircleTest(camear)\n"
   ]
  },
  {
   "cell_type": "code",
   "execution_count": 16,
   "id": "skilled-yemen",
   "metadata": {},
   "outputs": [],
   "source": [
    "# ウィジェットを配置\n",
    "data_html=HTML(\n",
    "    value=\"データ集め\"\n",
    ")\n",
    "\n",
    "# 水平線を引くための HTML ウィジェットを作成\n",
    "horizontal_line = widgets.HTML(\n",
    "    value=\"<hr style='border-top: 1px solid black;'>\",\n",
    "    layout=widgets.Layout(width='100%')\n",
    ")\n",
    "\n",
    "class_html=HTML(\n",
    "    value=\"クラス分類\"\n",
    ")\n",
    "\n",
    "###クラス分類\n",
    "\n",
    "#####境界線\n",
    "image_layout_2_1 = widgets.HBox([img_widget_1])\n",
    "xy_option_layout = widgets.VBox([x1_slider,x2_slider]) \n",
    "line_layout = widgets.VBox([image_layout_2_1,xy_option_layout])\n",
    "gui_layout_2_1 = widgets.HBox([line_layout])\n",
    "\n",
    "#####境界円\n",
    "image_layout_2_2 = widgets.HBox([img_widget_2])\n",
    "xy_option_layout_2 = widgets.VBox([x_slider,y_slider,rad_start_slider,rad_end_slider])\n",
    "circle_layout = widgets.VBox([image_layout_2_2,xy_option_layout_2])\n",
    "gui_layout_2_2 = widgets.HBox([circle_layout])"
   ]
  },
  {
   "cell_type": "code",
   "execution_count": 17,
   "id": "disturbed-heart",
   "metadata": {},
   "outputs": [],
   "source": [
    "classificate_layout = widgets.HBox([gui_layout_2_1,gui_layout_2_2])\n",
    "classificate_layout = widgets.VBox([horizontal_line,class_html,classificate_layout,space(0,30)])\n",
    "# GUIを表示\n",
    "# time.sleep(1)\n",
    "\n",
    "# traitlets.dlink((camera, 'value'), (img_widget_1, 'value'), transform=display_line)\n",
    "\n",
    "# traitlets.dlink((camera, 'value'), (img_widget_2, 'value'), transform=CircleTest)\n",
    "\n"
   ]
  },
  {
   "cell_type": "code",
   "execution_count": 18,
   "id": "tight-mailing",
   "metadata": {},
   "outputs": [],
   "source": [
    "# display(classificate_layout)"
   ]
  },
  {
   "cell_type": "code",
   "execution_count": 19,
   "id": "cooperative-explanation",
   "metadata": {},
   "outputs": [],
   "source": [
    "\n",
    "def create_html(num):\n",
    "    \n",
    "    global classes\n",
    "    return HTML(\n",
    "        value= classes[num]   \n",
    "        )\n",
    "\n",
    "data_button = widgets.Button(description='run', button_style='success', layout=button_layout)\n",
    "reload_button = widgets.Button(description='load', button_style='success', layout=button_layout)"
   ]
  },
  {
   "cell_type": "code",
   "execution_count": 20,
   "id": "thousand-consent",
   "metadata": {},
   "outputs": [],
   "source": [
    "\n",
    "left_layout = widgets.VBox([create_html(0),counters[0],create_html(1),counters[1],create_html(2),counters[2]])\n",
    "middle_layout = widgets.VBox([create_html(3),counters[3],create_html(4),counters[4],create_html(5),counters[5]])\n",
    "right_layout = widgets.VBox([create_html(6),counters[6],create_html(7),counters[7],create_html(8),counters[8]])\n",
    "save_count = widgets.IntText(layout=button_layout, value=len(glob.glob(os.path.join(dir_path, '*.jpg'))))\n",
    "button_layout_2 = widgets.VBox([space(0,100),data_button,space(0,30),reload_button,save_count])\n",
    "\n",
    "\n",
    "\n",
    "all_layout = widgets.HBox([button_layout_2,space(30,0),left_layout,space(30,0),middle_layout,space(30,0),right_layout])"
   ]
  },
  {
   "cell_type": "code",
   "execution_count": 21,
   "id": "silver-concert",
   "metadata": {},
   "outputs": [],
   "source": [
    "file_name = ''\n",
    "\n",
    "def reload():\n",
    "    classes = ['left_near', 'left_just', 'left_far', \n",
    "            'middle_near', 'middle_just', 'middle_far', \n",
    "            'right_near', 'right_just', 'right_far']\n",
    "    \n",
    "#     classes = ['left_near', 'middle_near', 'right_near', \n",
    "#             'left_just', 'middle_just', 'right_just', \n",
    "#             'left_far', 'middle_far', 'right_far']\n",
    "    \n",
    "    for i in range(len(classes)):  \n",
    "        \n",
    "        counters[i].value = len(glob.glob(os.path.join('class/'+classes[i], '*.jpg')))\n",
    "        \n",
    "    save_count.value = len(glob.glob(os.path.join(dir_path, '*.jpg')))\n",
    "    \n",
    "\n",
    "def run_classificate(data_path='dataset/'):\n",
    "    # Get all entries in the 'image/back/' directory\n",
    "    print(\"run\")\n",
    "    entries = os.listdir(data_path)\n",
    "\n",
    "    # Filter to include only .jpg files\n",
    "    img_files = [file for file in entries if file.endswith('.jpg')]\n",
    "#     print(img_files)\n",
    "\n",
    "    global file_name\n",
    "    for img in img_files:\n",
    "        \n",
    "        file_name = img\n",
    "        img_path = 'dataset/'+file_name\n",
    "        \n",
    "        kx,ky = getrate(img_path)\n",
    "        x= int(get_x(file_name) / kx)\n",
    "        y = int(get_y(file_name) / ky)\n",
    "        rad = int(get_r(file_name) / kx)\n",
    "        \n",
    "        allClassify(int(x1_slider.value), int(x2_slider.value), x, y, int(rad_start_slider.value), int(rad_end_slider.value), rad, img_path)\n",
    "\n",
    "data_button.on_click(lambda x: run_classificate())\n",
    "reload_button.on_click(lambda x: reload())"
   ]
  },
  {
   "cell_type": "code",
   "execution_count": 22,
   "id": "increasing-converter",
   "metadata": {},
   "outputs": [],
   "source": [
    "# display(all_layout)"
   ]
  },
  {
   "cell_type": "code",
   "execution_count": 23,
   "id": "discrete-collapse",
   "metadata": {},
   "outputs": [
    {
     "name": "stdout",
     "output_type": "stream",
     "text": [
      "['xy_016_113_014_29f56554-a09b-11ee-b33d-40ed000c4092.jpg', 'xy_155_129_011_bacd61ec-a09d-11ee-bacf-40ed000c4092.jpg', 'xy_183_131_007_ed4b03c6-a099-11ee-85d3-40ed000c4092.jpg', 'xy_104_149_006_f3fc2a9c-a099-11ee-85d3-40ed000c4092.jpg', 'xy_048_139_010_f2861ed8-a09a-11ee-b33d-40ed000c4092.jpg', 'xy_119_148_011_50f99b34-a09b-11ee-b33d-40ed000c4092.jpg', 'xy_055_138_010_67abad4c-a09e-11ee-bacf-40ed000c4092.jpg', 'xy_113_120_020_e7d790a4-a098-11ee-a36e-40ed000c4092.jpg', 'xy_117_074_039_037078b2-a099-11ee-a36e-40ed000c4092.jpg', 'xy_119_135_012_b330c9ea-a09a-11ee-b33d-40ed000c4092.jpg', 'xy_161_145_008_e5e5eeec-a09a-11ee-b33d-40ed000c4092.jpg', 'xy_106_121_016_3a4ba834-a099-11ee-a36e-40ed000c4092.jpg', 'xy_075_148_008_d4c791f6-a09a-11ee-b33d-40ed000c4092.jpg', 'xy_049_132_014_5d70acbe-a09a-11ee-b33d-40ed000c4092.jpg', 'xy_128_141_008_e2ab0d1c-a099-11ee-85d3-40ed000c4092.jpg', 'xy_206_099_020_4a11bfba-a099-11ee-a36e-40ed000c4092.jpg', 'xy_118_128_014_62e1f834-a099-11ee-a36e-40ed000c4092.jpg', 'xy_064_126_009_89a0823e-a09d-11ee-bacf-40ed000c4092.jpg', 'xy_116_117_025_6562af94-a090-11ee-86fd-40ed000c4092.jpg', 'xy_107_142_011_54f8fc2c-a099-11ee-a36e-40ed000c4092.jpg', 'xy_211_084_030_f032e954-a090-11ee-86fd-40ed000c4092.jpg', 'xy_201_042_023_8f3e7c54-a09e-11ee-bacf-40ed000c4092.jpg', 'xy_167_140_006_8d02c508-a099-11ee-85d3-40ed000c4092.jpg', 'xy_148_148_007_f81c9204-a09b-11ee-9d5b-40ed000c4092.jpg', 'xy_194_117_022_8666e9da-a090-11ee-86fd-40ed000c4092.jpg', 'xy_177_128_014_5f56ded2-a099-11ee-a36e-40ed000c4092.jpg', 'xy_020_114_012_e2d0ee2c-a09b-11ee-9d5b-40ed000c4092.jpg', 'xy_148_142_007_c737b374-a09d-11ee-bacf-40ed000c4092.jpg', 'xy_054_139_012_83ec4c04-a09a-11ee-b33d-40ed000c4092.jpg', 'xy_089_138_007_999a1e5c-a09d-11ee-bacf-40ed000c4092.jpg', 'xy_112_142_009_fc8bc8fc-a09e-11ee-b5e9-40ed000c4092.jpg', 'xy_016_104_017_6ebfc036-a09a-11ee-b33d-40ed000c4092.jpg', 'xy_070_138_007_dc367ada-a09d-11ee-bacf-40ed000c4092.jpg', 'xy_067_142_008_263bc2ba-a09f-11ee-b5e9-40ed000c4092.jpg', 'xy_149_146_007_ce41ad02-a09b-11ee-9d5b-40ed000c4092.jpg', 'xy_128_143_006_dd2c2100-a099-11ee-85d3-40ed000c4092.jpg', 'xy_065_148_007_f31ab16e-a09b-11ee-9d5b-40ed000c4092.jpg', 'xy_110_138_008_70c7e75c-a09d-11ee-bacf-40ed000c4092.jpg', 'xy_119_148_008_dee233bc-a09a-11ee-b33d-40ed000c4092.jpg', 'xy_112_137_012_75218c76-a099-11ee-85d3-40ed000c4092.jpg', 'xy_167_140_006_c1107f48-a099-11ee-85d3-40ed000c4092.jpg', 'xy_117_126_012_a0347a5a-a09d-11ee-bacf-40ed000c4092.jpg', 'xy_177_136_013_e9261316-a09a-11ee-b33d-40ed000c4092.jpg', 'xy_080_146_009_749bb08c-a09a-11ee-b33d-40ed000c4092.jpg', 'xy_046_124_012_f9ce02a2-a098-11ee-a36e-40ed000c4092.jpg', 'xy_015_099_020_41376070-a099-11ee-a36e-40ed000c4092.jpg', 'xy_192_114_017_2c028560-a09c-11ee-9d5b-40ed000c4092.jpg', 'xy_020_132_010_106213ae-a09f-11ee-b5e9-40ed000c4092.jpg', 'xy_115_071_049_fd3e64d4-a090-11ee-86fd-40ed000c4092.jpg', 'xy_171_125_010_a8493fe0-a09e-11ee-bacf-40ed000c4092.jpg', 'xy_159_064_027_b6e3b4b8-a09e-11ee-bacf-40ed000c4092.jpg', 'xy_132_134_010_ef8b3cb0-a09d-11ee-bacf-40ed000c4092.jpg', 'xy_152_146_005_53f8d180-a09e-11ee-bacf-40ed000c4092.jpg', 'xy_166_127_010_61609ebc-a09d-11ee-bacf-40ed000c4092.jpg', 'xy_080_153_007_313ebc6a-a09c-11ee-9d5b-40ed000c4092.jpg', 'xy_106_109_018_79424340-a09e-11ee-bacf-40ed000c4092.jpg', 'xy_021_108_024_12d99cca-a099-11ee-a36e-40ed000c4092.jpg', 'xy_164_134_012_31766342-a09f-11ee-b5e9-40ed000c4092.jpg', 'xy_020_114_017_beae9cde-a09a-11ee-b33d-40ed000c4092.jpg', 'xy_102_134_012_34adf91c-a09f-11ee-b5e9-40ed000c4092.jpg', 'xy_091_129_011_c01eebde-a09d-11ee-bacf-40ed000c4092.jpg', 'xy_109_144_006_7969c442-a099-11ee-85d3-40ed000c4092.jpg', 'xy_108_148_005_4b364b7c-a09e-11ee-bacf-40ed000c4092.jpg', 'xy_021_087_024_11b73ee2-a099-11ee-a36e-40ed000c4092.jpg', 'xy_182_129_014_65462c16-a09a-11ee-b33d-40ed000c4092.jpg', 'xy_102_123_012_fcd809e8-a09d-11ee-bacf-40ed000c4092.jpg', 'xy_155_145_007_a9882f96-a09a-11ee-b33d-40ed000c4092.jpg', 'xy_192_120_010_cfea1660-a09d-11ee-bacf-40ed000c4092.jpg', 'xy_116_101_028_26723226-a09c-11ee-9d5b-40ed000c4092.jpg', 'xy_135_104_018_eae1a32a-a09d-11ee-bacf-40ed000c4092.jpg', 'xy_068_144_008_9d607508-a09e-11ee-bacf-40ed000c4092.jpg', 'xy_048_140_010_bab9fe3e-a09a-11ee-b33d-40ed000c4092.jpg', 'xy_096_050_032_ee7880c2-a09c-11ee-9d5b-40ed000c4092.jpg', 'xy_036_143_013_b2f8a966-a090-11ee-86fd-40ed000c4092.jpg', 'xy_169_139_008_09c7f1e2-a09c-11ee-9d5b-40ed000c4092.jpg', 'xy_105_140_009_1c9b2c38-a09e-11ee-bacf-40ed000c4092.jpg', 'xy_183_135_008_122938b6-a09a-11ee-85d3-40ed000c4092.jpg', 'xy_109_148_007_f5661148-a09b-11ee-9d5b-40ed000c4092.jpg', 'xy_171_139_009_dca65df2-a09b-11ee-9d5b-40ed000c4092.jpg', 'xy_110_144_009_610ebeb6-a09e-11ee-bacf-40ed000c4092.jpg', 'xy_110_019_039_94067c64-a09e-11ee-bacf-40ed000c4092.jpg', 'xy_115_090_019_a5e61e9a-a09d-11ee-bacf-40ed000c4092.jpg', 'xy_075_135_012_43ef85a8-a09f-11ee-b5e9-40ed000c4092.jpg', 'xy_212_093_014_860e4394-a09e-11ee-bacf-40ed000c4092.jpg', 'xy_148_127_011_0d51a3fc-a09d-11ee-9d5b-40ed000c4092.jpg', 'xy_111_139_012_064307be-a09c-11ee-9d5b-40ed000c4092.jpg', 'xy_010_093_019_3ad5093e-a09f-11ee-b5e9-40ed000c4092.jpg', 'xy_158_146_009_785c1aa4-a09a-11ee-b33d-40ed000c4092.jpg', 'xy_208_095_016_dd5eb886-a09e-11ee-b5e9-40ed000c4092.jpg', 'xy_219_095_019_40d0b130-a09f-11ee-b5e9-40ed000c4092.jpg', 'xy_117_155_006_42f8b844-a09b-11ee-b33d-40ed000c4092.jpg', 'xy_023_116_012_887420c6-a09a-11ee-b33d-40ed000c4092.jpg', 'xy_147_145_008_2d4f27c2-a09f-11ee-b5e9-40ed000c4092.jpg', 'xy_179_138_010_18769a14-a09b-11ee-b33d-40ed000c4092.jpg', 'xy_101_124_012_0ebe435c-a09e-11ee-bacf-40ed000c4092.jpg', 'xy_201_120_015_ec76dc0c-a09b-11ee-9d5b-40ed000c4092.jpg', 'xy_169_073_026_035b1950-a09d-11ee-9d5b-40ed000c4092.jpg', 'xy_013_064_022_157d6672-a09f-11ee-b5e9-40ed000c4092.jpg', 'xy_037_119_016_3dd3a6b4-a099-11ee-a36e-40ed000c4092.jpg', 'xy_117_087_022_3de9faee-a09f-11ee-b5e9-40ed000c4092.jpg', 'xy_017_035_029_973d7df6-a09e-11ee-bacf-40ed000c4092.jpg', 'xy_119_140_006_d50c4e1e-a099-11ee-85d3-40ed000c4092.jpg', 'xy_033_126_012_3777ccd6-a09f-11ee-b5e9-40ed000c4092.jpg', 'xy_115_149_008_297b0b48-a09f-11ee-b5e9-40ed000c4092.jpg', 'xy_078_140_006_d83afc98-a099-11ee-85d3-40ed000c4092.jpg', 'xy_109_128_012_f5c51f9c-a098-11ee-a36e-40ed000c4092.jpg', 'xy_000_080_024_b321d684-a09e-11ee-bacf-40ed000c4092.jpg', 'xy_051_138_010_25bc0646-a09b-11ee-b33d-40ed000c4092.jpg', 'xy_171_139_009_0392275e-a09f-11ee-b5e9-40ed000c4092.jpg', 'xy_112_146_009_768d9c0c-a09a-11ee-b33d-40ed000c4092.jpg', 'xy_115_053_032_aaced122-a09d-11ee-bacf-40ed000c4092.jpg', 'xy_012_110_014_f6d17e24-a09a-11ee-b33d-40ed000c4092.jpg', 'xy_114_116_018_8b550b52-a09a-11ee-b33d-40ed000c4092.jpg', 'xy_143_127_010_66cf571c-a09d-11ee-bacf-40ed000c4092.jpg', 'xy_178_028_015_918ce2f6-a09a-11ee-b33d-40ed000c4092.jpg', 'xy_184_113_013_35f88d2e-a099-11ee-a36e-40ed000c4092.jpg', 'xy_119_110_023_fc0965b4-a09a-11ee-b33d-40ed000c4092.jpg', 'xy_212_025_035_1ea0e58a-a09f-11ee-b5e9-40ed000c4092.jpg', 'xy_075_141_007_ea1c8f80-a099-11ee-85d3-40ed000c4092.jpg', 'xy_095_131_010_6af177f8-a09d-11ee-bacf-40ed000c4092.jpg', 'xy_179_119_014_1262e280-a09c-11ee-9d5b-40ed000c4092.jpg', 'xy_162_146_009_12b9f1ac-a09b-11ee-b33d-40ed000c4092.jpg', 'xy_088_135_008_0f7d7d66-a09a-11ee-85d3-40ed000c4092.jpg', 'xy_125_139_013_802083e2-a09a-11ee-b33d-40ed000c4092.jpg', 'xy_017_084_030_e5484fc0-a090-11ee-86fd-40ed000c4092.jpg', 'xy_196_128_008_0856c5e2-a09f-11ee-b5e9-40ed000c4092.jpg', 'xy_060_141_011_f82743ae-a09e-11ee-b5e9-40ed000c4092.jpg', 'xy_114_145_007_a72eaacc-a09a-11ee-b33d-40ed000c4092.jpg', 'xy_109_146_007_c5c8f63a-a09b-11ee-9d5b-40ed000c4092.jpg', 'xy_113_113_019_e7d641e2-a09b-11ee-9d5b-40ed000c4092.jpg', 'xy_138_136_012_0becc1d4-a09f-11ee-b5e9-40ed000c4092.jpg', 'xy_123_139_013_ede01b90-a09a-11ee-b33d-40ed000c4092.jpg', 'xy_120_138_011_1dd6c52e-a09b-11ee-b33d-40ed000c4092.jpg', 'xy_122_104_025_6b61158e-a09a-11ee-b33d-40ed000c4092.jpg', 'xy_080_149_006_3d157106-a09b-11ee-b33d-40ed000c4092.jpg', 'xy_064_140_006_893a8b04-a099-11ee-85d3-40ed000c4092.jpg', 'xy_116_154_012_c9f3f300-a090-11ee-86fd-40ed000c4092.jpg', 'xy_114_144_008_a09b5b48-a09e-11ee-bacf-40ed000c4092.jpg', 'xy_115_074_025_045f77dc-a09e-11ee-bacf-40ed000c4092.jpg', 'xy_107_099_026_45378790-a099-11ee-a36e-40ed000c4092.jpg', 'xy_131_140_006_f79aa610-a099-11ee-85d3-40ed000c4092.jpg', 'xy_065_060_035_1a1fd8a4-a09f-11ee-b5e9-40ed000c4092.jpg', 'xy_168_140_006_851db3e8-a099-11ee-85d3-40ed000c4092.jpg', 'xy_159_138_008_776280fe-a09d-11ee-bacf-40ed000c4092.jpg', 'xy_074_145_007_a19641ce-a09a-11ee-b33d-40ed000c4092.jpg', 'xy_149_148_007_3a77b912-a09c-11ee-9d5b-40ed000c4092.jpg', 'xy_067_146_004_01224f58-a09a-11ee-85d3-40ed000c4092.jpg', 'xy_196_111_013_80193422-a09d-11ee-bacf-40ed000c4092.jpg', 'xy_046_138_009_0060ba6c-a09c-11ee-9d5b-40ed000c4092.jpg', 'xy_109_110_022_2fc5aa98-a09b-11ee-b33d-40ed000c4092.jpg', 'xy_114_139_009_d9c2317e-a09b-11ee-9d5b-40ed000c4092.jpg', 'xy_178_132_013_7d07c6b6-a09a-11ee-b33d-40ed000c4092.jpg', 'xy_177_135_012_af6f0970-a09a-11ee-b33d-40ed000c4092.jpg', 'xy_106_138_011_2bef4412-a099-11ee-a36e-40ed000c4092.jpg', 'xy_068_142_011_5122d3ac-a099-11ee-a36e-40ed000c4092.jpg', 'xy_168_139_010_3e92b31c-a09c-11ee-9d5b-40ed000c4092.jpg', 'xy_107_156_007_37cbc6e0-a09c-11ee-9d5b-40ed000c4092.jpg', 'xy_159_138_011_2f851af2-a099-11ee-a36e-40ed000c4092.jpg', 'xy_114_132_014_614ca2c0-a09a-11ee-b33d-40ed000c4092.jpg', 'xy_094_112_017_f9da964e-a09c-11ee-9d5b-40ed000c4092.jpg', 'xy_119_149_009_0e972400-a09b-11ee-b33d-40ed000c4092.jpg', 'xy_117_114_020_c7bceb28-a09a-11ee-b33d-40ed000c4092.jpg', 'xy_029_127_010_af4265a6-a09e-11ee-bacf-40ed000c4092.jpg', 'xy_164_140_008_59f54708-a09e-11ee-bacf-40ed000c4092.jpg', 'xy_179_124_012_fd470096-a098-11ee-a36e-40ed000c4092.jpg', 'xy_029_119_015_1ae8f534-a09c-11ee-9d5b-40ed000c4092.jpg', 'xy_096_129_013_ab8b06fc-a09e-11ee-bacf-40ed000c4092.jpg', 'xy_140_140_010_fafdeaa6-a099-11ee-85d3-40ed000c4092.jpg', 'xy_155_142_010_59185b90-a099-11ee-a36e-40ed000c4092.jpg', 'xy_096_045_032_14f04f9a-a09e-11ee-bacf-40ed000c4092.jpg', 'xy_196_087_024_1cf3f584-a099-11ee-a36e-40ed000c4092.jpg', 'xy_205_114_015_34a7ce4c-a09b-11ee-b33d-40ed000c4092.jpg', 'xy_151_148_006_4a66e506-a09b-11ee-b33d-40ed000c4092.jpg', 'xy_027_056_026_233d3e18-a09a-11ee-85d3-40ed000c4092.jpg', 'xy_197_116_010_7d1a283e-a09e-11ee-bacf-40ed000c4092.jpg', 'xy_160_063_028_b25b97b8-a09d-11ee-bacf-40ed000c4092.jpg', 'xy_028_080_018_e4eda9f0-a09d-11ee-bacf-40ed000c4092.jpg', 'xy_098_146_004_067b5ed6-a09a-11ee-85d3-40ed000c4092.jpg', 'xy_063_138_011_28f9ae6e-a099-11ee-a36e-40ed000c4092.jpg', 'xy_163_144_008_a527ffae-a09e-11ee-bacf-40ed000c4092.jpg', 'xy_065_146_007_b9a39a86-a09b-11ee-9d5b-40ed000c4092.jpg', 'xy_122_041_030_286247d0-a09a-11ee-85d3-40ed000c4092.jpg', 'xy_203_114_017_67fe8958-a09a-11ee-b33d-40ed000c4092.jpg', 'xy_201_109_016_cd0fee68-a09a-11ee-b33d-40ed000c4092.jpg', 'xy_187_143_013_a939092a-a090-11ee-86fd-40ed000c4092.jpg', 'xy_207_110_017_004f01e2-a09b-11ee-b33d-40ed000c4092.jpg', 'xy_042_101_016_8f4c32b4-a09d-11ee-bacf-40ed000c4092.jpg', 'xy_074_149_010_09b6389a-a09b-11ee-b33d-40ed000c4092.jpg', 'xy_200_070_019_1b163da2-a09a-11ee-85d3-40ed000c4092.jpg', 'xy_025_120_012_7139544a-a09e-11ee-bacf-40ed000c4092.jpg', 'xy_137_146_008_0b14abdc-a09a-11ee-85d3-40ed000c4092.jpg', 'xy_045_139_009_d4c48974-a09b-11ee-9d5b-40ed000c4092.jpg', 'xy_113_119_015_15fc915c-a09c-11ee-9d5b-40ed000c4092.jpg']\n"
     ]
    }
   ],
   "source": [
    "data_path = 'dataset/'\n",
    "entries = os.listdir(data_path)\n",
    "\n",
    "    # Filter to include only .jpg files\n",
    "img_files = [file for file in entries if file.endswith('.jpg')]\n",
    "print(img_files)\n"
   ]
  },
  {
   "cell_type": "code",
   "execution_count": 24,
   "id": "double-implement",
   "metadata": {},
   "outputs": [
    {
     "data": {
      "text/plain": [
       "<traitlets.traitlets.directional_link at 0x7f38941cc0>"
      ]
     },
     "execution_count": 24,
     "metadata": {},
     "output_type": "execute_result"
    }
   ],
   "source": [
    "\n",
    "\n",
    "time.sleep(1)\n",
    "\n",
    "traitlets.dlink((camera, 'value'), (img_widget_1, 'value'), transform=display_line)\n",
    "traitlets.dlink((camera, 'value'), (img_widget_2, 'value'), transform=CircleTest)"
   ]
  },
  {
   "cell_type": "code",
   "execution_count": 25,
   "id": "prostate-prince",
   "metadata": {},
   "outputs": [
    {
     "data": {
      "application/vnd.jupyter.widget-view+json": {
       "model_id": "0cb2a7bdbf274b6894b870e48f191411",
       "version_major": 2,
       "version_minor": 0
      },
      "text/plain": [
       "VBox(children=(HBox(children=(HBox(children=(Image(value=b'\\xff\\xd8\\xff\\xe0\\x00\\x10JFIF\\x00\\x01\\x01\\x00\\x00\\x0…"
      ]
     },
     "metadata": {},
     "output_type": "display_data"
    }
   ],
   "source": [
    "lay = widgets.VBox([dataCollect_layout,space(0,100),classificate_layout,all_layout])\n",
    "display(lay)"
   ]
  },
  {
   "cell_type": "code",
   "execution_count": null,
   "id": "rising-labor",
   "metadata": {},
   "outputs": [],
   "source": []
  },
  {
   "cell_type": "code",
   "execution_count": null,
   "id": "bored-oracle",
   "metadata": {},
   "outputs": [],
   "source": []
  },
  {
   "cell_type": "code",
   "execution_count": 28,
   "id": "hybrid-final",
   "metadata": {},
   "outputs": [
    {
     "data": {
      "text/plain": [
       "2"
      ]
     },
     "execution_count": 28,
     "metadata": {},
     "output_type": "execute_result"
    }
   ],
   "source": [
    "len(glob.glob(os.path.join('class/right_far', '*.jpg')))"
   ]
  },
  {
   "cell_type": "code",
   "execution_count": null,
   "id": "straight-globe",
   "metadata": {},
   "outputs": [],
   "source": []
  }
 ],
 "metadata": {
  "kernelspec": {
   "display_name": "Python 3 (ipykernel)",
   "language": "python",
   "name": "python3"
  },
  "language_info": {
   "codemirror_mode": {
    "name": "ipython",
    "version": 3
   },
   "file_extension": ".py",
   "mimetype": "text/x-python",
   "name": "python",
   "nbconvert_exporter": "python",
   "pygments_lexer": "ipython3",
   "version": "3.11.2"
  }
 },
 "nbformat": 4,
 "nbformat_minor": 5
}
