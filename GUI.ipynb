{
 "cells": [
  {
   "cell_type": "code",
   "execution_count": 1,
   "id": "c718b14c-6a59-4de5-a648-1fdc3b46cf6b",
   "metadata": {},
   "outputs": [],
   "source": [
    "import traitlets\n",
    "import ipywidgets.widgets as widgets\n",
    "from IPython.display import display\n"
   ]
  },
  {
   "cell_type": "code",
   "execution_count": 6,
   "id": "e9572dab-7f51-49e2-8420-69c801234d2e",
   "metadata": {},
   "outputs": [
    {
     "data": {
      "application/vnd.jupyter.widget-view+json": {
       "model_id": "55aa312e7c634a799e12e6dc51873d42",
       "version_major": 2,
       "version_minor": 0
      },
      "text/plain": [
       "FloatSlider(value=0.0, description='X', max=10.0, min=-10.0)"
      ]
     },
     "metadata": {},
     "output_type": "display_data"
    },
    {
     "data": {
      "application/vnd.jupyter.widget-view+json": {
       "model_id": "f355173c97134df9a29adc2a87d16ad2",
       "version_major": 2,
       "version_minor": 0
      },
      "text/plain": [
       "FloatSlider(value=0.0, description='Stick Input', max=1.0, min=-1.0)"
      ]
     },
     "metadata": {},
     "output_type": "display_data"
    }
   ],
   "source": [
    "# スライダーの作成\n",
    "x_slider = widgets.FloatSlider(description='X', min=-10.0, max=10.0, value=0)\n",
    "stick_input_slider = widgets.FloatSlider(description='Stick Input', min=-1.0, max=1.0, value=0)\n",
    "\n",
    "def update_x(change):\n",
    "    step = 0.1  # X座標の変化するステップの大きさ\n",
    "    threshold = 0.5  # スティック入力の閾値\n",
    "\n",
    "    slide_x = stick_input_slider.value\n",
    "    if change['new'] > threshold:\n",
    "        if (slide_x > 0) and (slide_x < 1.0):\n",
    "            x_slider.value = min(x_slider.max, x_slider.value + step)\n",
    "        elif slide_x == 1.0 :\n",
    "            x_slider.value += step\n",
    "            \n",
    "    elif change['new'] < -threshold:\n",
    "        if (slide_x < 0) and (slide_x > -1.0):\n",
    "            x_slider.value = max(x_slider.min, x_slider.value - step)\n",
    "        elif slide_x == -1.0:\n",
    "            x_slider.value -= step\n",
    "\n",
    "# スティック入力の変化を監視\n",
    "stick_input_slider.observe(update_x, names='value')\n",
    "\n",
    "display(x_slider, stick_input_slider)\n"
   ]
  },
  {
   "cell_type": "code",
   "execution_count": 8,
   "id": "840a7e49-3d0a-425b-9b25-d03b1d445239",
   "metadata": {},
   "outputs": [
    {
     "data": {
      "application/vnd.jupyter.widget-view+json": {
       "model_id": "0e3d7ba4ec1c4471b59b9ba6329543f0",
       "version_major": 2,
       "version_minor": 0
      },
      "text/plain": [
       "FloatSlider(value=0.0, description='X', max=10.0, min=-10.0)"
      ]
     },
     "metadata": {},
     "output_type": "display_data"
    },
    {
     "data": {
      "application/vnd.jupyter.widget-view+json": {
       "model_id": "1f4284562cdc409ca70ef2e1d647779c",
       "version_major": 2,
       "version_minor": 0
      },
      "text/plain": [
       "FloatSlider(value=0.0, description='Stick Input', max=1.0, min=-1.0)"
      ]
     },
     "metadata": {},
     "output_type": "display_data"
    }
   ],
   "source": [
    "import ipywidgets as widgets\n",
    "from IPython.display import display\n",
    "import threading\n",
    "\n",
    "# スライダーの作成\n",
    "x_slider = widgets.FloatSlider(description='X', min=-10.0, max=10.0, value=0)\n",
    "stick_input_slider = widgets.FloatSlider(description='Stick Input', min=-1.0, max=1.0, value=0)\n",
    "\n",
    "\n",
    "# X座標を更新する関数\n",
    "def update_x():\n",
    "    step = 0.1  # X座標の変化するステップの大きさ\n",
    "    if stick_input_slider.value == 1.0:\n",
    "        x_slider.value = min(x_slider.max, x_slider.value + step)\n",
    "    elif stick_input_slider.value == -1.0:\n",
    "        x_slider.value = max(x_slider.min, x_slider.value - step)\n",
    "\n",
    "    # 定期的にこの関数を再度呼び出す\n",
    "    threading.Timer(0.01, update_x).start()\n",
    "\n",
    "# 最初の更新を開始\n",
    "update_x()\n",
    "\n",
    "display(x_slider, stick_input_slider)\n"
   ]
  },
  {
   "cell_type": "code",
   "execution_count": 10,
   "id": "3595bb03-5ed6-43d8-9b8c-ba09caf34159",
   "metadata": {},
   "outputs": [
    {
     "data": {
      "application/vnd.jupyter.widget-view+json": {
       "model_id": "6fa5fca824964ab2baadab39c4de0573",
       "version_major": 2,
       "version_minor": 0
      },
      "text/plain": [
       "FloatSlider(value=0.0, description='X', max=10.0, min=-10.0)"
      ]
     },
     "metadata": {},
     "output_type": "display_data"
    },
    {
     "data": {
      "application/vnd.jupyter.widget-view+json": {
       "model_id": "736e0360b2194887a6606a21481b96ba",
       "version_major": 2,
       "version_minor": 0
      },
      "text/plain": [
       "FloatSlider(value=0.0, description='Stick Input', max=1.0, min=-1.0)"
      ]
     },
     "metadata": {},
     "output_type": "display_data"
    }
   ],
   "source": [
    "import ipywidgets as widgets\n",
    "from IPython.display import display\n",
    "import threading\n",
    "\n",
    "# スライダーの作成\n",
    "x_slider = widgets.FloatSlider(description='X', min=-10.0, max=10.0, value=0)\n",
    "stick_input_slider = widgets.FloatSlider(description='Stick Input', min=-1.0, max=1.0, value=0)\n",
    "\n",
    "\n",
    "# X座標を更新する関数\n",
    "def update_x():\n",
    "    step = 0.1  # X座標の変化するステップの大きさ\n",
    "    x_change = stick_input_slider.value * step\n",
    "    x_slider.value = max(min(x_slider.max, x_slider.value + x_change), x_slider.min)\n",
    "\n",
    "    # 定期的にこの関数を再度呼び出す\n",
    "    threading.Timer(0.1, update_x).start()\n",
    "\n",
    "# 最初の更新を開始\n",
    "update_x()\n",
    "\n",
    "display(x_slider, stick_input_slider)\n"
   ]
  },
  {
   "cell_type": "code",
   "execution_count": 1,
   "id": "ba88256e-3abd-41d3-8241-7b7a2a842ca4",
   "metadata": {},
   "outputs": [
    {
     "data": {
      "application/vnd.jupyter.widget-view+json": {
       "model_id": "558be12543364e2581bda14a9cd11c8b",
       "version_major": 2,
       "version_minor": 0
      },
      "text/plain": [
       "HBox(children=(VBox(children=(FloatSlider(value=0.1, description='Dead Zone', max=1.0, step=0.01), FloatSlider…"
      ]
     },
     "metadata": {},
     "output_type": "display_data"
    }
   ],
   "source": [
    "import ipywidgets as widgets\n",
    "from IPython.display import display\n",
    "import threading\n",
    "\n",
    "# スライダーの作成\n",
    "x_slider = widgets.FloatSlider(description='X', min=-10.0, max=10.0, value=0,step = 0.01)\n",
    "stick_input_slider = widgets.FloatSlider(description='Stick Input', min=-1.0, max=1.0, value=0,step=0.01)\n",
    "dead_zone_slider = widgets.FloatSlider(description='Dead Zone', min=0.0, max=1.0, value=0.1,step=0.01)\n",
    "step_slider = widgets.FloatSlider(description='Step Size', min=0.01, max=1.0, value=0.1,step = 0.01)\n",
    "\n",
    "\n",
    "# X座標を更新する関数\n",
    "def update_x():\n",
    "    dead_zone = dead_zone_slider.value\n",
    "    step = step_slider.value\n",
    "    x_change = 0\n",
    "\n",
    "    if abs(stick_input_slider.value) > dead_zone:\n",
    "        x_change = stick_input_slider.value * step\n",
    "\n",
    "    x_slider.value = max(min(x_slider.max, x_slider.value + x_change), x_slider.min)\n",
    "\n",
    "    # 定期的にこの関数を再度呼び出す\n",
    "    threading.Timer(0.1, update_x).start()\n",
    "\n",
    "# 最初の更新を開始\n",
    "update_x()\n",
    "\n",
    "option = widgets.VBox([dead_zone_slider, step_slider])\n",
    "position = widgets.VBox([x_slider, stick_input_slider])\n",
    "\n",
    "display(widgets.HBox([option,position]))\n"
   ]
  },
  {
   "cell_type": "code",
   "execution_count": null,
   "id": "653383d7-79ba-4a50-b698-4f2a3242c8a7",
   "metadata": {},
   "outputs": [],
   "source": []
  }
 ],
 "metadata": {
  "kernelspec": {
   "display_name": "Python 3 (ipykernel)",
   "language": "python",
   "name": "python3"
  },
  "language_info": {
   "codemirror_mode": {
    "name": "ipython",
    "version": 3
   },
   "file_extension": ".py",
   "mimetype": "text/x-python",
   "name": "python",
   "nbconvert_exporter": "python",
   "pygments_lexer": "ipython3",
   "version": "3.11.2"
  }
 },
 "nbformat": 4,
 "nbformat_minor": 5
}
