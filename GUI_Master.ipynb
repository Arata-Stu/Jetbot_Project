{
 "cells": [
  {
   "cell_type": "code",
   "execution_count": 1,
   "id": "collect-violation",
   "metadata": {},
   "outputs": [],
   "source": [
    "import traitlets\n",
    "import ipywidgets.widgets as widgets\n",
    "from ipywidgets import HTML\n",
    "from IPython.display import display\n",
    "import threading\n",
    "\n",
    "# from matplotlib import pyplot as plt\n",
    "import numpy as np\n",
    "\n",
    "import cv2\n",
    "import os\n",
    "from PIL import Image\n",
    "import time\n",
    "\n",
    "\n",
    "\n",
    "# Camera and Motor Interface for JetBot\n",
    "from jetbot import Robot, Camera, bgr8_to_jpeg\n",
    "\n",
    "# Basic Python packages for image annotation\n",
    "from uuid import uuid1\n",
    "\n",
    "import json\n",
    "import glob\n",
    "import datetime\n",
    "\n"
   ]
  },
  {
   "cell_type": "markdown",
   "id": "veterinary-smart",
   "metadata": {},
   "source": [
    "## スナップショット"
   ]
  },
  {
   "cell_type": "markdown",
   "id": "naval-martin",
   "metadata": {},
   "source": [
    "####  ディレクトリ作成"
   ]
  },
  {
   "cell_type": "code",
   "execution_count": 2,
   "id": "italian-wheel",
   "metadata": {},
   "outputs": [
    {
     "name": "stdout",
     "output_type": "stream",
     "text": [
      "Directories not created because they already exist\n"
     ]
    }
   ],
   "source": [
    "import os\n",
    "\n",
    "dir_path = 'dataset/'\n",
    "# we have this \"try/except\" statement because these next functions can throw an error if the directories exist already\n",
    "try:\n",
    "    os.makedirs(dir_path)\n",
    "    \n",
    "except FileExistsError:\n",
    "    print('Directories not created because they already exist')"
   ]
  },
  {
   "cell_type": "code",
   "execution_count": 3,
   "id": "chief-scientist",
   "metadata": {},
   "outputs": [],
   "source": [
    "def xy_uuid(x, y, r):\n",
    "    return 'xy_%03d_%03d_%03d_%s' % (x * widget_width / 2 + widget_width / 2, y * widget_height / 2 + widget_height / 2,r * widget_height / 4 + widget_height / 4, uuid1())\n",
    "\n",
    "def save_snapshot(change):\n",
    "    if change['new']:\n",
    "        uuid = xy_uuid(pos_x_slider.value, pos_y_slider.value,pos_r_slider.value)\n",
    "        image_path = os.path.join(dir_path, uuid + '.jpg')\n",
    "        with open(image_path, 'wb') as f:\n",
    "            f.write(camera_widget.value)\n",
    "        free_count.value = len(glob.glob(os.path.join(dir_path, '*.jpg')))"
   ]
  },
  {
   "cell_type": "code",
   "execution_count": 4,
   "id": "rapid-suspension",
   "metadata": {},
   "outputs": [],
   "source": [
    "camera = Camera()"
   ]
  },
  {
   "cell_type": "code",
   "execution_count": 5,
   "id": "about-copper",
   "metadata": {},
   "outputs": [
    {
     "data": {
      "application/vnd.jupyter.widget-view+json": {
       "model_id": "b3e53c0b1c7d49f9b036f754d0353f04",
       "version_major": 2,
       "version_minor": 0
      },
      "text/plain": [
       "Controller()"
      ]
     },
     "metadata": {},
     "output_type": "display_data"
    }
   ],
   "source": [
    "controller = widgets.Controller(index=0)\n",
    "display(controller)"
   ]
  },
  {
   "cell_type": "code",
   "execution_count": 6,
   "id": "swiss-chaos",
   "metadata": {},
   "outputs": [],
   "source": [
    "#snapshotのGUI\n",
    "button_layout = widgets.Layout(width='128px', height='64px')\n",
    "free_button = widgets.Button(description='snapshot', button_style='success', layout=button_layout)\n",
    "free_count = widgets.IntText(layout=button_layout, value=len(glob.glob(os.path.join(dir_path, '*.jpg'))))\n",
    "\n",
    "button_set = widgets.HBox([free_count, free_button])\n",
    "\n",
    "#操作関連\n",
    "pos_x_slider = widgets.FloatSlider(description='X', min=-1.0, max=1.0, value=0,step = 0.01)\n",
    "pos_y_slider = widgets.FloatSlider(description='Y', min=-1.0, max=1.0, value=0,step = 0.01)\n",
    "pos_r_slider = widgets.FloatSlider(description='R', min=-1.0, max=1.0, value=0,step = 0.01)\n",
    "\n",
    "stick_input_x_slider = widgets.FloatSlider(description='Stick Input X', min=-1.0, max=1.0, value=0,step=0.01)\n",
    "stick_input_y_slider = widgets.FloatSlider(description='Stick Input Y', min=-1.0, max=1.0, value=0,step=0.01)\n",
    "stick_input_r_slider = widgets.FloatSlider(description='Stick Input R', min=-1.0, max=1.0, value=0,step=0.01)\n",
    "\n",
    "dead_zone_slider = widgets.FloatSlider(description='Dead Zone', min=0.0, max=1.0, value=0.1,step=0.01)\n",
    "step_slider = widgets.FloatSlider(description='Step Size', min=0.001, max=1.000, value=0.1,step = 0.0001)\n",
    "\n",
    "option = widgets.VBox([dead_zone_slider, step_slider])\n",
    "\n",
    "\n",
    "widget_width = 224\n",
    "widget_height = 224\n",
    "\n",
    "camera_widget = widgets.Image(format='jpg', width=widget_width, height=widget_height)\n",
    "target_widget = widgets.Image(format='jpg', width=widget_width, height=widget_height)\n",
    "\n",
    "\n",
    "def display_xy(camera_image):\n",
    "    image = np.copy(camera_image)\n",
    "    \n",
    "#     img = cv2.imread('image/sample.png')\n",
    "    pos_x = int(pos_x_slider.value * widget_width / 2 + widget_width / 2)\n",
    "    pos_y = int(pos_y_slider.value * widget_height / 2 + widget_height / 2)\n",
    "    pos_r = int(pos_r_slider.value * widget_width / 4 + widget_width / 4)\n",
    "    \n",
    "    if pos_r <= 2:\n",
    "        pos_r = 2\n",
    "    \n",
    "    img = cv2.circle(image, (pos_x, pos_y), pos_r, (0, 255, 0),2)\n",
    "    jpeg_image = bgr8_to_jpeg(image)\n",
    "    \n",
    "#     # 画像をウィジェットに設定\n",
    "#     _, encoded_image = cv2.imencode('.png', img)\n",
    "#     camera_widget.value = encoded_image.tobytes()\n",
    "    \n",
    "    return jpeg_image\n",
    "\n",
    "\n",
    "# X座標を更新する関数\n",
    "def update_x():\n",
    "    dead_zone = dead_zone_slider.value\n",
    "    step = step_slider.value\n",
    "    x_change = 0\n",
    "    y_change = 0\n",
    "    r_change = 0\n",
    "\n",
    "    if abs(stick_input_x_slider.value) > dead_zone:\n",
    "        x_change = stick_input_x_slider.value * step\n",
    "        \n",
    "    if abs(stick_input_y_slider.value) > dead_zone:\n",
    "        y_change = stick_input_y_slider.value * step\n",
    "        \n",
    "    if abs(stick_input_r_slider.value) > dead_zone:\n",
    "        r_change = stick_input_r_slider.value * step\n",
    "\n",
    "    pos_x_slider.value = max(min(pos_x_slider.max, pos_x_slider.value + x_change), pos_x_slider.min)\n",
    "    pos_y_slider.value = max(min(pos_y_slider.max, pos_y_slider.value + y_change), pos_y_slider.min)\n",
    "    pos_r_slider.value = max(min(pos_r_slider.max, pos_r_slider.value + r_change), pos_r_slider.min)\n",
    "\n",
    "    # 定期的にこの関数を再度呼び出す\n",
    "    threading.Timer(0.05, update_x).start()\n",
    "\n",
    "    \n",
    "# controller.buttons[5].observe(save_snapshot, names='value')\n",
    "controller.buttons[7].observe(save_snapshot, names='value')\n",
    "free_button.on_click(lambda x: save_snapshot())\n",
    "\n",
    "# time.sleep(1)\n",
    "traitlets.dlink((camera, 'value'), (camera_widget, 'value'), transform=bgr8_to_jpeg)\n",
    "traitlets.dlink((camera, 'value'), (target_widget, 'value'), transform=display_xy)\n",
    "\n",
    "# 最初の更新を開始\n",
    "update_x()\n",
    "\n",
    "option = widgets.VBox([dead_zone_slider, step_slider])\n",
    "position_x = widgets.VBox([pos_x_slider, stick_input_x_slider])\n",
    "position_y = widgets.VBox([pos_y_slider, stick_input_y_slider])\n",
    "position_r = widgets.VBox([pos_r_slider, stick_input_r_slider])"
   ]
  },
  {
   "cell_type": "code",
   "execution_count": 7,
   "id": "residential-editor",
   "metadata": {},
   "outputs": [],
   "source": [
    "# 空白を作成\n",
    "def space(width,height):\n",
    "    width = str(width)+'px'\n",
    "    height = str(height)+'px'\n",
    "    return widgets.Box(layout=widgets.Layout(width = width,height = height))\n",
    "\n",
    "\n",
    "#コントローラのGUI\n",
    "controller_html=HTML(\n",
    "    value=\"コントローラの設定\"\n",
    ")\n",
    "\n",
    "###データ集め\n",
    "option_layout = widgets.VBox([space(0,30),button_set,space(0,30),controller_html,option])\n",
    "#image_layout = widgets.HBox([image_placeholder,image_placeholder])\n",
    "image_layout = widgets.HBox([camera_widget, target_widget])\n",
    "dataCollect_layout = widgets.HBox([image_layout,space(30,0),option_layout])\n"
   ]
  },
  {
   "cell_type": "code",
   "execution_count": 8,
   "id": "rental-summary",
   "metadata": {},
   "outputs": [
    {
     "data": {
      "text/plain": [
       "DirectionalLink(source=(Axis(value=0.0), 'value'), target=(FloatSlider(value=0.0, description='Stick Input R',…"
      ]
     },
     "metadata": {},
     "output_type": "display_data"
    }
   ],
   "source": [
    "# スティック入力をスライダーにリンク\n",
    "widgets.jsdlink((controller.axes[0], 'value'), (stick_input_x_slider, 'value'))\n",
    "widgets.jsdlink((controller.axes[1], 'value'), (stick_input_y_slider, 'value'))\n",
    "widgets.jsdlink((controller.axes[3], 'value'), (stick_input_r_slider, 'value'))"
   ]
  },
  {
   "cell_type": "code",
   "execution_count": 9,
   "id": "neither-procedure",
   "metadata": {},
   "outputs": [],
   "source": [
    "# display(dataCollect_layout)\n"
   ]
  },
  {
   "cell_type": "markdown",
   "id": "cooperative-argentina",
   "metadata": {},
   "source": [
    "# クラス分類 "
   ]
  },
  {
   "cell_type": "markdown",
   "id": "earlier-research",
   "metadata": {},
   "source": [
    "### ディレクトリ作成"
   ]
  },
  {
   "cell_type": "code",
   "execution_count": 10,
   "id": "studied-slovenia",
   "metadata": {},
   "outputs": [],
   "source": [
    "classes = ['left_near', 'left_just', 'left_far', \n",
    "            'middle_near', 'middle_just', 'middle_far', \n",
    "            'right_near', 'right_just', 'right_far']\n",
    "\n",
    "os.makedirs('class',exist_ok = True)\n",
    "for s in classes:\n",
    "    os.makedirs('class/'+s,exist_ok=True) "
   ]
  },
  {
   "cell_type": "code",
   "execution_count": 11,
   "id": "major-cricket",
   "metadata": {},
   "outputs": [],
   "source": [
    "# インタラクティブなウィジェットを作成\n",
    "x1_slider = widgets.IntSlider(min=0, max=224/2, value=10, description='x1:')\n",
    "x2_slider = widgets.IntSlider(min=0, max=224/2, value=10, description='x2:')\n",
    "\n",
    "x_slider = widgets.IntSlider(min=0, max=300, value=150, description='X:')\n",
    "y_slider = widgets.IntSlider(min=0, max=300, value=150, description='Y:')\n",
    "rad_start_slider = widgets.IntSlider(min=0, max=300, value=50, description='Rad Start:')\n",
    "rad_end_slider = widgets.IntSlider(min=0, max=300, value=100, description='Rad End:')\n",
    "\n",
    "img_widget_1 = widgets.Image(format='jpg', width=224, height=224)\n",
    "img_widget_2 = widgets.Image(format='jpg', width=224, height=224)\n",
    "\n",
    "#カウンタ\n",
    "counters = [widgets.IntText(layout=button_layout, value=len(os.listdir('class/'+classes[0]))),\n",
    "           widgets.IntText(layout=button_layout, value=len(os.listdir('class/'+classes[1]))),\n",
    "           widgets.IntText(layout=button_layout, value=len(os.listdir('class/'+classes[2]))),\n",
    "           widgets.IntText(layout=button_layout, value=len(os.listdir('class/'+classes[3]))),\n",
    "           widgets.IntText(layout=button_layout, value=len(os.listdir('class/'+classes[4]))),\n",
    "           widgets.IntText(layout=button_layout, value=len(os.listdir('class/'+classes[5]))),\n",
    "           widgets.IntText(layout=button_layout, value=len(os.listdir('class/'+classes[6]))),\n",
    "           widgets.IntText(layout=button_layout, value=len(os.listdir('class/'+classes[7]))),\n",
    "           widgets.IntText(layout=button_layout, value=len(os.listdir('class/'+classes[8])))]\n"
   ]
  },
  {
   "cell_type": "code",
   "execution_count": 12,
   "id": "grave-barbados",
   "metadata": {},
   "outputs": [],
   "source": [
    "\n",
    "\n",
    "def LineTest(camera_image):\n",
    "    image = np.copy(camera_image)\n",
    "    \n",
    "    x1 = x1_slider.value\n",
    "    x2 = x2_slider.value\n",
    "    mid_x = 112\n",
    "    mid_y = 112\n",
    "    new_x1 = 2 * mid_x - x1\n",
    "    new_x2 = 2 * mid_x - x2\n",
    "    \n",
    "    # 線の色と太さを定義\n",
    "    blue_color = (255, 0, 0)\n",
    "    thickness = 2\n",
    "    \n",
    "    # 画像上に線を描画\n",
    "    image = cv2.line(image, (int(x1), 0), (int(x2), image.shape[0]), blue_color, thickness)\n",
    "    image = cv2.line(image, (new_x1, 0), (new_x2, image.shape[0]), blue_color, thickness)\n",
    "    \n",
    "    jpeg_image = bgr8_to_jpeg(image)\n",
    "    \n",
    "    return jpeg_image\n",
    "\n",
    "def display_line(camera_image):\n",
    "    image = np.copy(camera_image)\n",
    "    \n",
    "#     img = cv2.imread('image/sample.png')\n",
    "    x1 = x1_slider.value\n",
    "    x2 = x2_slider.value\n",
    "    mid_x = 112\n",
    "    mid_y = 112\n",
    "    new_x1 = 2 * mid_x - x1\n",
    "    new_x2 = 2 * mid_x - x2\n",
    "    \n",
    "    \n",
    "    blue_color = (255, 0, 0)\n",
    "    thickness = 2\n",
    "    \n",
    "    img = cv2.line(image, (int(x1), 0), (int(x2), image.shape[0]), blue_color, thickness)\n",
    "    img = cv2.line(image, (new_x1, 0), (new_x2, image.shape[0]), blue_color, thickness)\n",
    "    \n",
    "    jpeg_image = bgr8_to_jpeg(image)\n",
    "    \n",
    "#     # 画像をウィジェットに設定\n",
    "#     _, encoded_image = cv2.imencode('.png', img)\n",
    "#     camera_widget.value = encoded_image.tobytes()\n",
    "    \n",
    "    return jpeg_image\n",
    "    \n",
    "    \n",
    "def CircleTest(camera_image):\n",
    "    img = np.copy(camera_image)\n",
    "    \n",
    "    x = x_slider.value\n",
    "    y = y_slider.value\n",
    "    rad_start = rad_start_slider.value\n",
    "    rad_end = rad_end_slider.value\n",
    "\n",
    "    # 色と太さの設定\n",
    "    red_color = (0, 0, 255)\n",
    "    green_color = (0, 255, 0)\n",
    "    yellow_color = (0, 255, 255)\n",
    "    blue_color = (255 , 0 , 0)\n",
    "    circle_thickness = -1\n",
    "    thickness = 2\n",
    "\n",
    "    # 円を描画\n",
    "    img = cv2.circle(img, (x, y), rad_start, blue_color, thickness)\n",
    "    img = cv2.circle(img, (x, y), rad_end, green_color, thickness)\n",
    "    img = cv2.circle(img, (x, y), 2, red_color, circle_thickness)\n",
    "\n",
    "    jpeg_image = bgr8_to_jpeg(img)\n",
    "    \n",
    "    return jpeg_image\n",
    "    \n",
    "def update_line(change):\n",
    "    LineTest(camera)\n",
    "    \n",
    "    # スライダーの値が変更されたときのコールバック関数\n",
    "def update_image(camera):\n",
    "    CircleTest(x_slider.value, y_slider.value, rad_start_slider.value, rad_end_slider.value, img_widget_2, img_path)\n"
   ]
  },
  {
   "cell_type": "markdown",
   "id": "mineral-retailer",
   "metadata": {},
   "source": [
    "### クラス分類 - 分類処理関数"
   ]
  },
  {
   "cell_type": "code",
   "execution_count": 13,
   "id": "brilliant-dealer",
   "metadata": {},
   "outputs": [],
   "source": [
    "def get_index(direction,distance):\n",
    "    \n",
    "    row = 0\n",
    "    column = 0\n",
    "    \n",
    "    if direction == 'left':\n",
    "        column = 0\n",
    "    elif direction == 'middle':\n",
    "        column = 1\n",
    "    elif direction == 'right':\n",
    "        column = 2\n",
    "        \n",
    "    if distance == 'near':\n",
    "        row = 0 \n",
    "    elif direction == 'just':\n",
    "        row = 1 \n",
    "    elif direction == 'far':\n",
    "        row = 2\n",
    "        \n",
    "    return 3*column + row\n",
    "    \n",
    "def fx(x1, x2, x, img): # 座標(x1, 0),(x2, img.shape[0])の2点を通る直線の式における、xがx(引数)の時のyを返す\n",
    "    y = img.shape[0] // (x2 - x1) * (x - x1)\n",
    "    return y\n",
    "    \n",
    "def directionClassify(x1, x2, x, y, img_path): # 方向分類\n",
    "    img = cv2.imread(img_path)\n",
    "    img = cv2.resize(img,(300,300)) \n",
    "    \n",
    "    img_width = 300\n",
    "    \n",
    "    \n",
    "    x1 = x1 * img.shape[1] // img_width\n",
    "    x2 = x2 * img.shape[1] // img_width\n",
    "    \n",
    "    mid_x = img.shape[1] // 2\n",
    "    new_x1 = 2 * mid_x - x1\n",
    "    new_x2 = 2 * mid_x - x2\n",
    "    \n",
    "    if x1 < x2:\n",
    "        if (x == x1 and y == 0) or (x == new_x1 and y == 0) or (x >= x2 and x <= new_x2):\n",
    "            direction = 'middle'\n",
    "        elif x > x1 and x < x2 and y <= fx(x1, x2, x, img):\n",
    "            direction = 'middle'\n",
    "        elif x > new_x2 and x < new_x1 and y <= fx(new_x1, new_x2, x, img):\n",
    "            direction = 'middle'\n",
    "        elif x >= 0 and x <= x1:\n",
    "            direction = 'left'\n",
    "        elif x > x1 and x < x2 and y > fx(x1, x2, x, img):\n",
    "            direction = 'left'\n",
    "        elif x >= new_x1 and x <= img.shape[1]:\n",
    "            direction = 'right'\n",
    "        elif x > new_x2 and x < new_x1 and y > fx(new_x1, new_x2, x, img):\n",
    "            direction = 'right'\n",
    "    elif x1 > x2:\n",
    "        if (x == x2 and y == img.shape[0]) or (x == new_x2 and y == img.shape[0]) or (x >= x1 and x <= new_x1):\n",
    "            direction = 'middle'\n",
    "        elif x > x2 and x < x1 and y >= fx(x1, x2, x, img):\n",
    "            direction = 'middle'\n",
    "        elif x > new_x1 and x < new_x2 and y >= fx(new_x1, new_x2, x, img):\n",
    "            direction = 'middle'\n",
    "        elif x >= 0 and x <= x2:\n",
    "            direction = 'left'\n",
    "        elif x > x2 and x < x1 and y < fx(x1, x2, x, img):\n",
    "            direction = 'left'\n",
    "        elif x >= new_x2 and x <= img.shape[1]:\n",
    "            direction = 'right'\n",
    "        elif x > new_x1 and x < new_x2 and y < fx(new_x1, new_x2, x, img):\n",
    "            direction = 'right'\n",
    "    elif x1 == x2:\n",
    "        if x >= 0 and x < x1:\n",
    "            direction = 'left'\n",
    "        elif x > new_x1 and x <= img.shape[1]:\n",
    "            direction = 'right'\n",
    "        else:\n",
    "            direction = 'middle'\n",
    "            \n",
    "    return direction\n",
    "        \n",
    "def distanceClassify(rad_start, rad_end, rad, img_path): # 距離分類\n",
    "    img = cv2.imread(img_path)\n",
    "    img = cv2.resize(img,(300,300)) \n",
    "    img_width = 300\n",
    "    \n",
    "    \n",
    "    #start = img.shape[1] // rad_start // 2 # justの下限\n",
    "    #end = img.shape[1] // rad_end // 2 # justの上限\n",
    "    \n",
    "    start = rad_start * img.shape[1] // img_width\n",
    "    end = rad_end * img.shape[1] // img_width\n",
    "    \n",
    "    if rad > 0 and rad < start:\n",
    "        distance = 'far'\n",
    "    elif rad > end:\n",
    "        distance = 'near'\n",
    "    else:\n",
    "        distance = 'just'\n",
    "        \n",
    "    return distance\n",
    "    \n",
    "def allClassify(x1, x2, x, y, rad_start, rad_end, rad, img_path): # 全体の分類\n",
    "    \n",
    "    \"\"\" 修正　\"\"\"\n",
    "    \n",
    "    img = cv2.imread(img_path)\n",
    "    #original_img = img\n",
    "    output_folder = ''\n",
    "    \n",
    "    direction = directionClassify(x1, x2, x, y, img_path)\n",
    "    distance = distanceClassify(rad_start, rad_end, rad, img_path)\n",
    "    \n",
    "    \n",
    "    \n",
    "    global file_name\n",
    "    output_folder = 'class/'+direction+'_'+distance+'/' + file_name\n",
    "    original_img = Image.open(img_path)\n",
    "    original_img.save(output_folder)\n",
    "    \n",
    "    n = get_index(direction,distance)\n",
    "    counters[n].value = len(os.listdir('class/'+direction+'_'+distance))\n",
    "        \n",
    "    print(output_folder)\n",
    "    \n",
    "\n",
    "def getrate(img_path):\n",
    "    ###Resizeする倍率を取得 座標や半径の調整に利用###\n",
    "    img = cv2.imread(img_path)\n",
    "    \n",
    "    return img.shape[0] / 300,img.shape[1] / 300\n",
    "    \n",
    "\n",
    "def get_x(path):\n",
    "    \"\"\"Gets the y value from the image filename\"\"\"\n",
    "    return (float(int(path.split(\"_\")[1])) ) \n",
    "\n",
    "def get_y(path):\n",
    "    \"\"\"Gets the y value from the image filename\"\"\"\n",
    "    return (float(int(path.split(\"_\")[2])) ) \n",
    "\n",
    "def get_r(path):\n",
    "    \"\"\"Gets the y value from the image filename\"\"\"\n",
    "    return (float(int(path.split(\"_\")[3])) )"
   ]
  },
  {
   "cell_type": "code",
   "execution_count": null,
   "id": "continued-sender",
   "metadata": {},
   "outputs": [],
   "source": []
  },
  {
   "cell_type": "code",
   "execution_count": null,
   "id": "forward-enemy",
   "metadata": {},
   "outputs": [],
   "source": []
  },
  {
   "cell_type": "code",
   "execution_count": 14,
   "id": "wicked-sitting",
   "metadata": {},
   "outputs": [],
   "source": [
    "# 画像のパスを設定\n",
    "img_path = 'image/sample.png' # 画像のパスを適切なものに変更してください\n",
    "\n",
    "# スライダーの値が変更されたときにコールバック関数を実行\n",
    "# x1_slider.observe(LineTest, names='value')\n",
    "# x2_slider.observe(LineTest, names='value')\n",
    "\n",
    "# # スライダーの変更を監視\n",
    "# x_slider.observe(CircleTest, names='value')\n",
    "# y_slider.observe(CircleTest, names='value')\n",
    "# rad_start_slider.observe(CircleTest, names='value')\n",
    "# rad_end_slider.observe(CircleTest, names='value')\n",
    "\n",
    "# # 初期表示\n",
    "# LineTest(camera)\n",
    "# # 初期画像を設定\n",
    "# CircleTest(camear)\n"
   ]
  },
  {
   "cell_type": "code",
   "execution_count": 15,
   "id": "domestic-lying",
   "metadata": {},
   "outputs": [],
   "source": [
    "# ウィジェットを配置\n",
    "data_html=HTML(\n",
    "    value=\"データ集め\"\n",
    ")\n",
    "\n",
    "# 水平線を引くための HTML ウィジェットを作成\n",
    "horizontal_line = widgets.HTML(\n",
    "    value=\"<hr style='border-top: 1px solid black;'>\",\n",
    "    layout=widgets.Layout(width='100%')\n",
    ")\n",
    "\n",
    "class_html=HTML(\n",
    "    value=\"クラス分類\"\n",
    ")\n",
    "\n",
    "###クラス分類\n",
    "\n",
    "#####境界線\n",
    "image_layout_2_1 = widgets.HBox([img_widget_1])\n",
    "xy_option_layout = widgets.VBox([x1_slider,x2_slider]) \n",
    "line_layout = widgets.VBox([image_layout_2_1,xy_option_layout])\n",
    "gui_layout_2_1 = widgets.HBox([line_layout])\n",
    "\n",
    "#####境界円\n",
    "image_layout_2_2 = widgets.HBox([img_widget_2])\n",
    "xy_option_layout_2 = widgets.VBox([x_slider,y_slider,rad_start_slider,rad_end_slider])\n",
    "circle_layout = widgets.VBox([image_layout_2_2,xy_option_layout_2])\n",
    "gui_layout_2_2 = widgets.HBox([circle_layout])"
   ]
  },
  {
   "cell_type": "code",
   "execution_count": 16,
   "id": "romantic-dictionary",
   "metadata": {},
   "outputs": [
    {
     "data": {
      "text/plain": [
       "<traitlets.traitlets.directional_link at 0x7f2fd459e8>"
      ]
     },
     "execution_count": 16,
     "metadata": {},
     "output_type": "execute_result"
    }
   ],
   "source": [
    "classificate_layout = widgets.HBox([gui_layout_2_1,gui_layout_2_2])\n",
    "classificate_layout = widgets.VBox([horizontal_line,class_html,classificate_layout,space(0,30)])\n",
    "# GUIを表示\n",
    "time.sleep(1)\n",
    "\n",
    "traitlets.dlink((camera, 'value'), (img_widget_1, 'value'), transform=display_line)\n",
    "\n",
    "traitlets.dlink((camera, 'value'), (img_widget_2, 'value'), transform=CircleTest)\n",
    "\n"
   ]
  },
  {
   "cell_type": "code",
   "execution_count": 17,
   "id": "flexible-paper",
   "metadata": {},
   "outputs": [],
   "source": [
    "# display(classificate_layout)"
   ]
  },
  {
   "cell_type": "code",
   "execution_count": 18,
   "id": "broken-edmonton",
   "metadata": {},
   "outputs": [],
   "source": [
    "\n",
    "def create_html(num):\n",
    "    \n",
    "    global classes\n",
    "    return HTML(\n",
    "        value= classes[num]   \n",
    "        )\n",
    "\n",
    "data_button = widgets.Button(description='run', button_style='success', layout=button_layout)\n",
    "reload_button = widgets.Button(description='load', button_style='success', layout=button_layout)"
   ]
  },
  {
   "cell_type": "code",
   "execution_count": 19,
   "id": "copyrighted-memorial",
   "metadata": {},
   "outputs": [],
   "source": [
    "\n",
    "left_layout = widgets.VBox([create_html(0),counters[0],create_html(1),counters[1],create_html(2),counters[2]])\n",
    "middle_layout = widgets.VBox([create_html(3),counters[3],create_html(4),counters[4],create_html(5),counters[5]])\n",
    "right_layout = widgets.VBox([create_html(6),counters[6],create_html(7),counters[7],create_html(8),counters[7]])\n",
    "save_count = widgets.IntText(layout=button_layout, value=len(glob.glob(os.path.join(dir_path, '*.jpg'))))\n",
    "button_layout_2 = widgets.VBox([space(0,100),data_button,space(0,30),reload_button,save_count])\n",
    "\n",
    "\n",
    "\n",
    "all_layout = widgets.HBox([button_layout_2,space(30,0),left_layout,space(30,0),middle_layout,space(30,0),right_layout])"
   ]
  },
  {
   "cell_type": "code",
   "execution_count": 20,
   "id": "timely-specification",
   "metadata": {},
   "outputs": [],
   "source": [
    "file_name = ''\n",
    "\n",
    "def reload():\n",
    "    classes = ['left_near', 'left_just', 'left_far', \n",
    "            'middle_near', 'middle_just', 'middle_far', \n",
    "            'right_near', 'right_just', 'right_far']\n",
    "    \n",
    "    for i in range(len(classes)):  \n",
    "        \n",
    "        counters[i].value = len(glob.glob(os.path.join('class/'+classes[i], '*.jpg')))\n",
    "        \n",
    "    save_count.value = len(glob.glob(os.path.join(dir_path, '*.jpg')))\n",
    "    \n",
    "\n",
    "def run_classificate(data_path='dataset/'):\n",
    "    # Get all entries in the 'image/back/' directory\n",
    "    print(\"run\")\n",
    "    entries = os.listdir(data_path)\n",
    "\n",
    "    # Filter to include only .jpg files\n",
    "    img_files = [file for file in entries if file.endswith('.jpg')]\n",
    "#     print(img_files)\n",
    "\n",
    "    global file_name\n",
    "    for img in img_files:\n",
    "        \n",
    "        file_name = img\n",
    "        img_path = 'dataset/'+file_name\n",
    "        \n",
    "        kx,ky = getrate(img_path)\n",
    "        x= int(get_x(file_name) / kx)\n",
    "        y = int(get_y(file_name) / ky)\n",
    "        rad = int(get_r(file_name) / kx)\n",
    "        \n",
    "        allClassify(int(x1_slider.value), int(x2_slider.value), x, y, int(rad_start_slider.value), int(rad_end_slider.value), rad, img_path)\n",
    "\n",
    "data_button.on_click(lambda x: run_classificate())\n",
    "reload_button.on_click(lambda x: reload())"
   ]
  },
  {
   "cell_type": "code",
   "execution_count": 21,
   "id": "following-mixture",
   "metadata": {},
   "outputs": [],
   "source": [
    "# display(all_layout)"
   ]
  },
  {
   "cell_type": "code",
   "execution_count": 22,
   "id": "attempted-article",
   "metadata": {},
   "outputs": [
    {
     "name": "stdout",
     "output_type": "stream",
     "text": [
      "['xy_149_063_056_531a9c3c-9edf-11ee-8a1c-40ed000c4092.jpg', 'xy_114_106_056_51df6cc6-9edf-11ee-8a1c-40ed000c4092.jpg', 'xy_080_063_056_52850bfe-9edf-11ee-8a1c-40ed000c4092.jpg']\n"
     ]
    }
   ],
   "source": [
    "data_path = 'dataset/'\n",
    "entries = os.listdir(data_path)\n",
    "\n",
    "    # Filter to include only .jpg files\n",
    "img_files = [file for file in entries if file.endswith('.jpg')]\n",
    "print(img_files)\n"
   ]
  },
  {
   "cell_type": "code",
   "execution_count": 23,
   "id": "metric-machinery",
   "metadata": {},
   "outputs": [
    {
     "data": {
      "application/vnd.jupyter.widget-view+json": {
       "model_id": "ab717b38478f4fa98b17407971d3a6d1",
       "version_major": 2,
       "version_minor": 0
      },
      "text/plain": [
       "VBox(children=(HBox(children=(HBox(children=(Image(value=b'\\xff\\xd8\\xff\\xe0\\x00\\x10JFIF\\x00\\x01\\x01\\x00\\x00\\x0…"
      ]
     },
     "metadata": {},
     "output_type": "display_data"
    }
   ],
   "source": [
    "lay = widgets.VBox([dataCollect_layout,space(0,100),classificate_layout,all_layout])\n",
    "display(lay)"
   ]
  },
  {
   "cell_type": "code",
   "execution_count": null,
   "id": "chubby-second",
   "metadata": {},
   "outputs": [],
   "source": []
  }
 ],
 "metadata": {
  "kernelspec": {
   "display_name": "Python 3",
   "language": "python",
   "name": "python3"
  },
  "language_info": {
   "codemirror_mode": {
    "name": "ipython",
    "version": 3
   },
   "file_extension": ".py",
   "mimetype": "text/x-python",
   "name": "python",
   "nbconvert_exporter": "python",
   "pygments_lexer": "ipython3",
   "version": "3.6.9"
  }
 },
 "nbformat": 4,
 "nbformat_minor": 5
}
