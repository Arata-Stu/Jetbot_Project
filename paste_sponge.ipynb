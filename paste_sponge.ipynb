{
 "cells": [
  {
   "cell_type": "code",
   "execution_count": 15,
   "id": "15b609cb-2589-4095-9919-c2938896ca42",
   "metadata": {
    "tags": []
   },
   "outputs": [],
   "source": [
    "from PIL import Image\n",
    "import math\n",
    "import random\n",
    "from datetime import datetime\n",
    "\n",
    "def load_image(path):\n",
    "    \"\"\"指定されたパスから画像を読み込む\"\"\"\n",
    "    return Image.open(path)\n",
    "\n",
    "def calculate_new_coordinates(width, height, theta, direction):\n",
    "    \"\"\"指定された角度と距離で新しい座標を計算する\"\"\"\n",
    "    theta_radians = math.radians(theta)\n",
    "    new_x = width / 2 + direction * math.cos(theta_radians)\n",
    "    new_y = height / 2 - direction * math.sin(theta_radians)\n",
    "    return int(new_x), int(new_y)\n",
    "\n",
    "def paste_transparent_image(bg_image, transparent_image_path, position, rate=1.0):\n",
    "    \"\"\"透過画像を指定された位置と大きさで背景画像に貼り付ける\"\"\"\n",
    "    \n",
    "    transparent_image = Image.open(transparent_image_path)\n",
    "    new_width = int(rate * transparent_image.width)\n",
    "    new_height = int(rate * transparent_image.height)\n",
    "    transparent_image = transparent_image.resize((new_width, new_height))\n",
    "    position = (position[0] - int(new_width / 2), position[1] - int(new_height / 2))\n",
    "    tmp_image = Image.new(\"RGBA\", bg_image.size)\n",
    "    tmp_image.paste(transparent_image, position, transparent_image)\n",
    "    return Image.alpha_composite(bg_image.convert(\"RGBA\"), tmp_image)\n",
    "\n",
    "def gettheta(direction):\n",
    "    \"\"\"方向に基づいて角度をランダムに選ぶ\"\"\"\n",
    "    if direction == 'left':\n",
    "        return random.randint(135, 225)\n",
    "    elif direction == 'middle':\n",
    "        return random.randint(50, 130)\n",
    "    elif direction == 'right':\n",
    "        return random.randint(315, 405)\n",
    "    else:\n",
    "        return 0\n",
    "    \n",
    "def getrate(distance):\n",
    "    near = [1.8,1.9,2.0]\n",
    "    just = [1.3,1.4,1.5,1.6,1.7]\n",
    "    far = [1.0,1.1,1.2]\n",
    "    \n",
    "    if distance == 'near':\n",
    "        return random.choice(near)\n",
    "    elif distance == 'just':\n",
    "        return random.choice(just)\n",
    "    elif distance == 'far':\n",
    "        return random.choice(far)\n",
    "    else:\n",
    "        return 0\n",
    "\n",
    "    \n",
    "def setback():\n",
    "    \"\"\"背景画像のパスのリストを生成する\"\"\"\n",
    "    \n",
    "    return [\"image/background/background_image_\"  + str(i)+ \".jpg\" for i in range(10)]\n",
    "\n",
    "def compose_image(background_path, transparent_image_path, direction_str, distance_str):\n",
    "    \"\"\"背景画像に透過画像を貼り付けるプロセスを統合する\"\"\"\n",
    "    \n",
    "    bg_image = load_image(bg_image_path)\n",
    "    min_length = min(bg_image.width, bg_image.height)\n",
    "    bg_image = bg_image.resize((min_length, min_length))\n",
    "    distance = int(min_length / 2.5)\n",
    "    theta = gettheta(direction_str)\n",
    "    position = calculate_new_coordinates(min_length, min_length, theta, distance)\n",
    "    rate = getrate(distance_str)\n",
    "    return paste_transparent_image(bg_image, transparent_image_path, position, rate)"
   ]
  },
  {
   "cell_type": "code",
   "execution_count": 11,
   "id": "27c026b2-065f-482d-b061-aaafe3786c2f",
   "metadata": {
    "tags": []
   },
   "outputs": [
    {
     "data": {
      "text/plain": [
       "['image/background/background_image_0.jpg',\n",
       " 'image/background/background_image_1.jpg',\n",
       " 'image/background/background_image_2.jpg',\n",
       " 'image/background/background_image_3.jpg',\n",
       " 'image/background/background_image_4.jpg',\n",
       " 'image/background/background_image_5.jpg',\n",
       " 'image/background/background_image_6.jpg',\n",
       " 'image/background/background_image_7.jpg',\n",
       " 'image/background/background_image_8.jpg',\n",
       " 'image/background/background_image_9.jpg']"
      ]
     },
     "execution_count": 11,
     "metadata": {},
     "output_type": "execute_result"
    }
   ],
   "source": [
    "background_array = setback()\n",
    "background_array"
   ]
  },
  {
   "cell_type": "code",
   "execution_count": 12,
   "id": "d70334fc-8331-4541-92b2-e98a39a21a46",
   "metadata": {
    "tags": []
   },
   "outputs": [],
   "source": []
  },
  {
   "cell_type": "code",
   "execution_count": 8,
   "id": "9f3520a9-bce5-4d09-90ff-db4f0ef1a229",
   "metadata": {
    "tags": []
   },
   "outputs": [],
   "source": [
    "import os\n",
    "\n",
    "classes = ['left_near', 'left_just', 'left_far', \n",
    "                        'middle_near', 'middle_just', 'middle_far', \n",
    "                        'right_near', 'right_just', 'right_far']\n",
    "\n",
    "for s in classes:\n",
    "    new_dir_path = 'image/second/'+s\n",
    "\n",
    "    os.mkdir(new_dir_path)"
   ]
  },
  {
   "cell_type": "code",
   "execution_count": 20,
   "id": "422cb806-c9f2-4993-be2e-3f6deb112215",
   "metadata": {
    "tags": []
   },
   "outputs": [],
   "source": [
    "background_path = \"image/nolabel/test.jpg\"\n",
    "direction_str = random.choice([\"left\",\"middle\",\"right\"])\n",
    "distance_str = random.choice([\"near\",\"just\",\"far\"])\n",
    "new_image = compose_image(background_path, transparent_image_path, direction_str, distance_str)\n",
    "\n",
    "new_image.save(\"new.png\")"
   ]
  },
  {
   "cell_type": "code",
   "execution_count": 16,
   "id": "a75a5532-9bd6-4257-ac3d-5be0b94dbf0a",
   "metadata": {
    "tags": []
   },
   "outputs": [],
   "source": [
    "background_array = setback()\n",
    "transparent_image_path = \"image/sponge.png\"\n",
    "n = 0\n",
    "for i in range(n):\n",
    "    # print(\"{0}枚目\".format(i))\n",
    "    direction_str = random.choice([\"left\",\"middle\",\"right\"])\n",
    "    distance_str = random.choice([\"near\",\"just\",\"far\"])\n",
    "    bg_image_path = random.choice(background_array)\n",
    "    new_image = compose_image(background_array, transparent_image_path, direction_str, distance_str)\n",
    "    \n",
    "    # new_image.save(\"image/generate/\"+direction_str+distance_str+\"/.png\")\n",
    "    base_path = \"image/second/\"+direction_str+\"_\"+distance_str+\"/\"\n",
    "    timestamp = datetime.now().strftime(\"%Y%m%d_%H%M%S\")\n",
    "    filename = f\"{base_path}_{timestamp}.png\"\n",
    "    print(filename)\n",
    "    new_image.save(filename)"
   ]
  },
  {
   "cell_type": "code",
   "execution_count": null,
   "id": "fd31f7f0-4857-4d0b-bd78-5c820e04537a",
   "metadata": {},
   "outputs": [],
   "source": []
  }
 ],
 "metadata": {
  "kernelspec": {
   "display_name": "Python 3 (ipykernel)",
   "language": "python",
   "name": "python3"
  },
  "language_info": {
   "codemirror_mode": {
    "name": "ipython",
    "version": 3
   },
   "file_extension": ".py",
   "mimetype": "text/x-python",
   "name": "python",
   "nbconvert_exporter": "python",
   "pygments_lexer": "ipython3",
   "version": "3.9.18"
  }
 },
 "nbformat": 4,
 "nbformat_minor": 5
}
